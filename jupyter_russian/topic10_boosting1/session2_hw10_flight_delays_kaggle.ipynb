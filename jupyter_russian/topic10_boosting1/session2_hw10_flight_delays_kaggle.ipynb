{
 "cells": [
  {
   "cell_type": "markdown",
   "metadata": {},
   "source": [
    "<center>\n",
    "<img src=\"../../img/ods_stickers.jpg\">\n",
    "## Открытый курс по машинному обучению. Сессия № 2\n",
    "Автор материала: программист-исследователь Mail.ru Group, старший преподаватель Факультета Компьютерных Наук ВШЭ Юрий Кашницкий. Материал распространяется на условиях лицензии [Creative Commons CC BY-NC-SA 4.0](https://creativecommons.org/licenses/by-nc-sa/4.0/). Можно использовать в любых целях (редактировать, поправлять и брать за основу), кроме коммерческих, но с обязательным упоминанием автора материала."
   ]
  },
  {
   "cell_type": "markdown",
   "metadata": {},
   "source": [
    "# <center>Домашнее задание № 10\n",
    "## <center> Прогнозирование задержек вылетов\n",
    "\n",
    "Ваша задача – побить как минимум 2 бенчмарка в [соревновании](https://www.kaggle.com/c/flight-delays-2017) на Kaggle Inclass. Подробных инструкций не будет, будет только тезисно описано, как получен второй – с помощью Xgboost. Надеюсь, на данном этапе курса вам достаточно бросить полтора взгляда на данные, чтоб понять, что это тот тип задачи, в которой затащит градиентный бустинг. Скорее всего Xgboost, но тут у нас еще немало категориальных признаков...\n",
    "\n",
    "<img src='../../img/xgboost_meme.jpg' width=40% />"
   ]
  },
  {
   "cell_type": "code",
   "execution_count": 1,
   "metadata": {},
   "outputs": [
    {
     "name": "stderr",
     "output_type": "stream",
     "text": [
      "C:\\Users\\Qoffee\\Anaconda3v2\\lib\\site-packages\\sklearn\\cross_validation.py:41: DeprecationWarning: This module was deprecated in version 0.18 in favor of the model_selection module into which all the refactored classes and functions are moved. Also note that the interface of the new CV iterators are different from that of this module. This module will be removed in 0.20.\n",
      "  \"This module will be removed in 0.20.\", DeprecationWarning)\n"
     ]
    }
   ],
   "source": [
    "import numpy as np\n",
    "import pandas as pd\n",
    "from sklearn.preprocessing import StandardScaler\n",
    "from sklearn.model_selection import train_test_split\n",
    "from sklearn.linear_model import LogisticRegression\n",
    "from xgboost import XGBClassifier\n",
    "from sklearn.metrics import roc_auc_score"
   ]
  },
  {
   "cell_type": "code",
   "execution_count": 2,
   "metadata": {
    "collapsed": true
   },
   "outputs": [],
   "source": [
    "train = pd.read_csv('../../data/flight_delays_train.csv')\n",
    "test = pd.read_csv('../../data/flight_delays_test.csv')"
   ]
  },
  {
   "cell_type": "code",
   "execution_count": 3,
   "metadata": {
    "scrolled": true
   },
   "outputs": [
    {
     "data": {
      "text/html": [
       "<div>\n",
       "<style>\n",
       "    .dataframe thead tr:only-child th {\n",
       "        text-align: right;\n",
       "    }\n",
       "\n",
       "    .dataframe thead th {\n",
       "        text-align: left;\n",
       "    }\n",
       "\n",
       "    .dataframe tbody tr th {\n",
       "        vertical-align: top;\n",
       "    }\n",
       "</style>\n",
       "<table border=\"1\" class=\"dataframe\">\n",
       "  <thead>\n",
       "    <tr style=\"text-align: right;\">\n",
       "      <th></th>\n",
       "      <th>Month</th>\n",
       "      <th>DayofMonth</th>\n",
       "      <th>DayOfWeek</th>\n",
       "      <th>DepTime</th>\n",
       "      <th>UniqueCarrier</th>\n",
       "      <th>Origin</th>\n",
       "      <th>Dest</th>\n",
       "      <th>Distance</th>\n",
       "      <th>dep_delayed_15min</th>\n",
       "    </tr>\n",
       "  </thead>\n",
       "  <tbody>\n",
       "    <tr>\n",
       "      <th>0</th>\n",
       "      <td>c-8</td>\n",
       "      <td>c-21</td>\n",
       "      <td>c-7</td>\n",
       "      <td>1934</td>\n",
       "      <td>AA</td>\n",
       "      <td>ATL</td>\n",
       "      <td>DFW</td>\n",
       "      <td>732</td>\n",
       "      <td>N</td>\n",
       "    </tr>\n",
       "    <tr>\n",
       "      <th>1</th>\n",
       "      <td>c-4</td>\n",
       "      <td>c-20</td>\n",
       "      <td>c-3</td>\n",
       "      <td>1548</td>\n",
       "      <td>US</td>\n",
       "      <td>PIT</td>\n",
       "      <td>MCO</td>\n",
       "      <td>834</td>\n",
       "      <td>N</td>\n",
       "    </tr>\n",
       "    <tr>\n",
       "      <th>2</th>\n",
       "      <td>c-9</td>\n",
       "      <td>c-2</td>\n",
       "      <td>c-5</td>\n",
       "      <td>1422</td>\n",
       "      <td>XE</td>\n",
       "      <td>RDU</td>\n",
       "      <td>CLE</td>\n",
       "      <td>416</td>\n",
       "      <td>N</td>\n",
       "    </tr>\n",
       "    <tr>\n",
       "      <th>3</th>\n",
       "      <td>c-11</td>\n",
       "      <td>c-25</td>\n",
       "      <td>c-6</td>\n",
       "      <td>1015</td>\n",
       "      <td>OO</td>\n",
       "      <td>DEN</td>\n",
       "      <td>MEM</td>\n",
       "      <td>872</td>\n",
       "      <td>N</td>\n",
       "    </tr>\n",
       "    <tr>\n",
       "      <th>4</th>\n",
       "      <td>c-10</td>\n",
       "      <td>c-7</td>\n",
       "      <td>c-6</td>\n",
       "      <td>1828</td>\n",
       "      <td>WN</td>\n",
       "      <td>MDW</td>\n",
       "      <td>OMA</td>\n",
       "      <td>423</td>\n",
       "      <td>Y</td>\n",
       "    </tr>\n",
       "  </tbody>\n",
       "</table>\n",
       "</div>"
      ],
      "text/plain": [
       "  Month DayofMonth DayOfWeek  DepTime UniqueCarrier Origin Dest  Distance  \\\n",
       "0   c-8       c-21       c-7     1934            AA    ATL  DFW       732   \n",
       "1   c-4       c-20       c-3     1548            US    PIT  MCO       834   \n",
       "2   c-9        c-2       c-5     1422            XE    RDU  CLE       416   \n",
       "3  c-11       c-25       c-6     1015            OO    DEN  MEM       872   \n",
       "4  c-10        c-7       c-6     1828            WN    MDW  OMA       423   \n",
       "\n",
       "  dep_delayed_15min  \n",
       "0                 N  \n",
       "1                 N  \n",
       "2                 N  \n",
       "3                 N  \n",
       "4                 Y  "
      ]
     },
     "execution_count": 3,
     "metadata": {},
     "output_type": "execute_result"
    }
   ],
   "source": [
    "train.head()"
   ]
  },
  {
   "cell_type": "code",
   "execution_count": 4,
   "metadata": {},
   "outputs": [
    {
     "data": {
      "text/html": [
       "<div>\n",
       "<style>\n",
       "    .dataframe thead tr:only-child th {\n",
       "        text-align: right;\n",
       "    }\n",
       "\n",
       "    .dataframe thead th {\n",
       "        text-align: left;\n",
       "    }\n",
       "\n",
       "    .dataframe tbody tr th {\n",
       "        vertical-align: top;\n",
       "    }\n",
       "</style>\n",
       "<table border=\"1\" class=\"dataframe\">\n",
       "  <thead>\n",
       "    <tr style=\"text-align: right;\">\n",
       "      <th></th>\n",
       "      <th>Month</th>\n",
       "      <th>DayofMonth</th>\n",
       "      <th>DayOfWeek</th>\n",
       "      <th>DepTime</th>\n",
       "      <th>UniqueCarrier</th>\n",
       "      <th>Origin</th>\n",
       "      <th>Dest</th>\n",
       "      <th>Distance</th>\n",
       "    </tr>\n",
       "  </thead>\n",
       "  <tbody>\n",
       "    <tr>\n",
       "      <th>0</th>\n",
       "      <td>c-7</td>\n",
       "      <td>c-25</td>\n",
       "      <td>c-3</td>\n",
       "      <td>615</td>\n",
       "      <td>YV</td>\n",
       "      <td>MRY</td>\n",
       "      <td>PHX</td>\n",
       "      <td>598</td>\n",
       "    </tr>\n",
       "    <tr>\n",
       "      <th>1</th>\n",
       "      <td>c-4</td>\n",
       "      <td>c-17</td>\n",
       "      <td>c-2</td>\n",
       "      <td>739</td>\n",
       "      <td>WN</td>\n",
       "      <td>LAS</td>\n",
       "      <td>HOU</td>\n",
       "      <td>1235</td>\n",
       "    </tr>\n",
       "    <tr>\n",
       "      <th>2</th>\n",
       "      <td>c-12</td>\n",
       "      <td>c-2</td>\n",
       "      <td>c-7</td>\n",
       "      <td>651</td>\n",
       "      <td>MQ</td>\n",
       "      <td>GSP</td>\n",
       "      <td>ORD</td>\n",
       "      <td>577</td>\n",
       "    </tr>\n",
       "    <tr>\n",
       "      <th>3</th>\n",
       "      <td>c-3</td>\n",
       "      <td>c-25</td>\n",
       "      <td>c-7</td>\n",
       "      <td>1614</td>\n",
       "      <td>WN</td>\n",
       "      <td>BWI</td>\n",
       "      <td>MHT</td>\n",
       "      <td>377</td>\n",
       "    </tr>\n",
       "    <tr>\n",
       "      <th>4</th>\n",
       "      <td>c-6</td>\n",
       "      <td>c-6</td>\n",
       "      <td>c-3</td>\n",
       "      <td>1505</td>\n",
       "      <td>UA</td>\n",
       "      <td>ORD</td>\n",
       "      <td>STL</td>\n",
       "      <td>258</td>\n",
       "    </tr>\n",
       "  </tbody>\n",
       "</table>\n",
       "</div>"
      ],
      "text/plain": [
       "  Month DayofMonth DayOfWeek  DepTime UniqueCarrier Origin Dest  Distance\n",
       "0   c-7       c-25       c-3      615            YV    MRY  PHX       598\n",
       "1   c-4       c-17       c-2      739            WN    LAS  HOU      1235\n",
       "2  c-12        c-2       c-7      651            MQ    GSP  ORD       577\n",
       "3   c-3       c-25       c-7     1614            WN    BWI  MHT       377\n",
       "4   c-6        c-6       c-3     1505            UA    ORD  STL       258"
      ]
     },
     "execution_count": 4,
     "metadata": {},
     "output_type": "execute_result"
    }
   ],
   "source": [
    "test.head()"
   ]
  },
  {
   "cell_type": "markdown",
   "metadata": {},
   "source": [
    "Итак, надо по времени вылета самолета, коду авиакомпании-перевозчика, месту вылета и прилета и расстоянию между аэропортами вылета и прилета предсказать задержку вылета более 15 минут. В качестве простейшего бенчмарка возьмем логистическую регрессию и два признака, которые проще всего взять: `DepTime` и `Distance`. У такой модели результат – 0.68202 на LB. "
   ]
  },
  {
   "cell_type": "code",
   "execution_count": 5,
   "metadata": {},
   "outputs": [
    {
     "name": "stderr",
     "output_type": "stream",
     "text": [
      "C:\\Users\\Qoffee\\Anaconda3v2\\lib\\site-packages\\sklearn\\utils\\validation.py:444: DataConversionWarning: Data with input dtype int64 was converted to float64 by StandardScaler.\n",
      "  warnings.warn(msg, DataConversionWarning)\n"
     ]
    }
   ],
   "source": [
    "X_train, y_train = train[['Distance', 'DepTime']].values, train['dep_delayed_15min'].map({'Y': 1, 'N': 0}).values\n",
    "X_test = test[['Distance', 'DepTime']].values\n",
    "\n",
    "X_train_part, X_valid, y_train_part, y_valid = train_test_split(X_train, y_train, test_size=0.3, random_state=17)\n",
    "\n",
    "scaler = StandardScaler()\n",
    "X_train_part = scaler.fit_transform(X_train_part)\n",
    "X_valid = scaler.transform(X_valid)"
   ]
  },
  {
   "cell_type": "code",
   "execution_count": 6,
   "metadata": {
    "collapsed": true
   },
   "outputs": [],
   "source": [
    "X_train, y_train = train[['Month', 'DayofMonth', 'DayOfWeek', 'DepTime', 'UniqueCarrier',\n",
    "       'Origin', 'Dest', 'Distance']], train['dep_delayed_15min'].map({'Y': 1, 'N': 0})\n",
    "X_test = test[['Month', 'DayofMonth', 'DayOfWeek', 'DepTime', 'UniqueCarrier',\n",
    "       'Origin', 'Dest', 'Distance']]\n",
    "frames = [X_train, X_test]\n",
    "X = pd.concat(frames)\n",
    "cat_features = X.columns[X.dtypes == 'object']\n",
    "df_interact = X.copy()\n",
    "for i, col1 in enumerate(cat_features):\n",
    "    for j, col2 in enumerate(cat_features[i + 1:]):\n",
    "        df_interact[col1 + '_' + col2] = df_interact[col1] + '_' + df_interact[col2]"
   ]
  },
  {
   "cell_type": "code",
   "execution_count": null,
   "metadata": {
    "collapsed": true
   },
   "outputs": [],
   "source": [
    "X_train, y_train = train[['Month', 'DayofMonth', 'DayOfWeek', 'DepTime', 'UniqueCarrier',\n",
    "       'Origin', 'Dest', 'Distance']], train['dep_delayed_15min'].map({'Y': 1, 'N': 0})\n",
    "X_test = test[['Month', 'DayofMonth', 'DayOfWeek', 'DepTime', 'UniqueCarrier',\n",
    "       'Origin', 'Dest', 'Distance']]\n",
    "frames = [X_train, X_test]\n",
    "X = pd.concat(frames)\n",
    "cat_features = X.columns[X.dtypes == 'object']\n",
    "df_interact = X.copy()\n",
    "for i, col1 in enumerate(cat_features):\n",
    "    for j, col2 in enumerate(cat_features[i + 1:]):\n",
    "        df_interact[col1 + '_' + col2] = df_interact[col1] + '_' + df_interact[col2]"
   ]
  },
  {
   "cell_type": "code",
   "execution_count": 7,
   "metadata": {},
   "outputs": [
    {
     "data": {
      "text/plain": [
       "(200000, 23)"
      ]
     },
     "execution_count": 7,
     "metadata": {},
     "output_type": "execute_result"
    }
   ],
   "source": [
    "df_interact.shape"
   ]
  },
  {
   "cell_type": "code",
   "execution_count": 8,
   "metadata": {
    "collapsed": true
   },
   "outputs": [],
   "source": [
    "from catboost import CatBoostClassifier\n",
    "X_train_part, X_valid, y_train_part, y_valid = train_test_split(df_interact[:100000], y_train, test_size=0.3, random_state=17)\n",
    "cat_features_idx = np.where(X_train_part.dtypes == 'object')[0].tolist()"
   ]
  },
  {
   "cell_type": "code",
   "execution_count": 25,
   "metadata": {},
   "outputs": [
    {
     "name": "stdout",
     "output_type": "stream",
     "text": [
      "0: learn: 0.4585239\ttotal: 2.98s\tremaining: 18m 19s\n",
      "1: learn: 0.4393033\ttotal: 6.78s\tremaining: 20m 47s\n",
      "2: learn: 0.4350898\ttotal: 8.65s\tremaining: 17m 37s\n",
      "3: learn: 0.4331525\ttotal: 11.3s\tremaining: 17m 13s\n",
      "4: learn: 0.4301641\ttotal: 14.5s\tremaining: 17m 42s\n",
      "5: learn: 0.4278765\ttotal: 19.2s\tremaining: 19m 22s\n",
      "6: learn: 0.4271911\ttotal: 20.9s\tremaining: 18m 1s\n",
      "7: learn: 0.4268036\ttotal: 22.1s\tremaining: 16m 41s\n",
      "8: learn: 0.4248887\ttotal: 25.2s\tremaining: 16m 51s\n",
      "9: learn: 0.4231351\ttotal: 28.6s\tremaining: 17m 8s\n",
      "10: learn: 0.4218614\ttotal: 33s\tremaining: 17m 55s\n",
      "11: learn: 0.4195834\ttotal: 37.7s\tremaining: 18m 45s\n",
      "12: learn: 0.4195766\ttotal: 38.3s\tremaining: 17m 32s\n",
      "13: learn: 0.4177413\ttotal: 43.1s\tremaining: 18m 14s\n",
      "14: learn: 0.4161276\ttotal: 48.3s\tremaining: 19m 2s\n",
      "15: learn: 0.4150305\ttotal: 53.3s\tremaining: 19m 39s\n",
      "16: learn: 0.4124954\ttotal: 58.2s\tremaining: 20m 8s\n",
      "17: learn: 0.4096789\ttotal: 1m 2s\tremaining: 20m 15s\n",
      "18: learn: 0.4072954\ttotal: 1m 5s\tremaining: 20m 13s\n",
      "19: learn: 0.4053192\ttotal: 1m 9s\tremaining: 20m 24s\n",
      "20: learn: 0.404207\ttotal: 1m 14s\tremaining: 20m 36s\n",
      "21: learn: 0.4029388\ttotal: 1m 19s\tremaining: 20m 51s\n",
      "22: learn: 0.4019002\ttotal: 1m 23s\tremaining: 21m 6s\n",
      "23: learn: 0.3988994\ttotal: 1m 28s\tremaining: 21m 13s\n",
      "24: learn: 0.3971157\ttotal: 1m 32s\tremaining: 21m 13s\n",
      "25: learn: 0.3956345\ttotal: 1m 36s\tremaining: 21m 22s\n",
      "26: learn: 0.395297\ttotal: 1m 41s\tremaining: 21m 31s\n",
      "27: learn: 0.3944738\ttotal: 1m 46s\tremaining: 21m 40s\n",
      "28: learn: 0.3937996\ttotal: 1m 50s\tremaining: 21m 44s\n",
      "29: learn: 0.39323\ttotal: 1m 55s\tremaining: 21m 52s\n",
      "30: learn: 0.3910225\ttotal: 2m\tremaining: 21m 57s\n",
      "31: learn: 0.3901664\ttotal: 2m 5s\tremaining: 22m 3s\n",
      "32: learn: 0.3892578\ttotal: 2m 9s\tremaining: 22m\n",
      "33: learn: 0.388821\ttotal: 2m 14s\tremaining: 22m 4s\n",
      "34: learn: 0.3877458\ttotal: 2m 18s\tremaining: 22m 8s\n",
      "35: learn: 0.3857945\ttotal: 2m 23s\tremaining: 22m 8s\n",
      "36: learn: 0.3845068\ttotal: 2m 27s\tremaining: 22m 11s\n",
      "37: learn: 0.3837495\ttotal: 2m 32s\tremaining: 22m 13s\n",
      "38: learn: 0.3818531\ttotal: 2m 36s\tremaining: 22m 12s\n",
      "39: learn: 0.3801824\ttotal: 2m 41s\tremaining: 22m 9s\n",
      "40: learn: 0.379328\ttotal: 2m 45s\tremaining: 22m 10s\n",
      "41: learn: 0.3791783\ttotal: 2m 50s\tremaining: 22m 10s\n",
      "42: learn: 0.3786637\ttotal: 2m 54s\tremaining: 22m 10s\n",
      "43: learn: 0.3777671\ttotal: 2m 59s\tremaining: 22m 11s\n",
      "44: learn: 0.3775784\ttotal: 3m 3s\tremaining: 22m 7s\n",
      "45: learn: 0.3774371\ttotal: 3m 7s\tremaining: 22m\n",
      "46: learn: 0.3770084\ttotal: 3m 11s\tremaining: 21m 58s\n",
      "47: learn: 0.3755751\ttotal: 3m 16s\tremaining: 21m 55s\n",
      "48: learn: 0.3747329\ttotal: 3m 20s\tremaining: 21m 54s\n",
      "49: learn: 0.3732238\ttotal: 3m 25s\tremaining: 21m 53s\n",
      "50: learn: 0.3712788\ttotal: 3m 29s\tremaining: 21m 51s\n",
      "51: learn: 0.3700035\ttotal: 3m 33s\tremaining: 21m 45s\n",
      "52: learn: 0.3672818\ttotal: 3m 38s\tremaining: 21m 45s\n",
      "53: learn: 0.3656799\ttotal: 3m 42s\tremaining: 21m 44s\n",
      "54: learn: 0.363286\ttotal: 3m 47s\tremaining: 21m 42s\n",
      "55: learn: 0.3617991\ttotal: 3m 52s\tremaining: 21m 41s\n",
      "56: learn: 0.360863\ttotal: 3m 56s\tremaining: 21m 40s\n",
      "57: learn: 0.3596874\ttotal: 4m 1s\tremaining: 21m 38s\n",
      "58: learn: 0.3590088\ttotal: 4m 5s\tremaining: 21m 35s\n",
      "59: learn: 0.3579319\ttotal: 4m 9s\tremaining: 21m 31s\n",
      "60: learn: 0.3575323\ttotal: 4m 13s\tremaining: 21m 23s\n",
      "61: learn: 0.3548523\ttotal: 4m 17s\tremaining: 21m 20s\n",
      "62: learn: 0.3520963\ttotal: 4m 22s\tremaining: 21m 19s\n",
      "63: learn: 0.3515729\ttotal: 4m 26s\tremaining: 21m 15s\n",
      "64: learn: 0.3512637\ttotal: 4m 30s\tremaining: 21m 11s\n",
      "65: learn: 0.3510399\ttotal: 4m 34s\tremaining: 21m 4s\n",
      "66: learn: 0.3494377\ttotal: 4m 38s\tremaining: 21m\n",
      "67: learn: 0.3488698\ttotal: 4m 42s\tremaining: 20m 56s\n",
      "68: learn: 0.3487774\ttotal: 4m 47s\tremaining: 20m 52s\n",
      "69: learn: 0.348674\ttotal: 4m 51s\tremaining: 20m 49s\n",
      "70: learn: 0.3480381\ttotal: 4m 55s\tremaining: 20m 46s\n",
      "71: learn: 0.3479725\ttotal: 4m 59s\tremaining: 20m 40s\n",
      "72: learn: 0.3468677\ttotal: 5m 4s\tremaining: 20m 37s\n",
      "73: learn: 0.3463193\ttotal: 5m 8s\tremaining: 20m 33s\n",
      "74: learn: 0.3462109\ttotal: 5m 13s\tremaining: 20m 31s\n",
      "75: learn: 0.3456268\ttotal: 5m 17s\tremaining: 20m 29s\n",
      "76: learn: 0.3455962\ttotal: 5m 21s\tremaining: 20m 22s\n",
      "77: learn: 0.3452398\ttotal: 5m 26s\tremaining: 20m 22s\n",
      "78: learn: 0.344525\ttotal: 5m 31s\tremaining: 20m 20s\n",
      "79: learn: 0.3443261\ttotal: 5m 35s\tremaining: 20m 15s\n",
      "80: learn: 0.3427904\ttotal: 5m 39s\tremaining: 20m 11s\n",
      "81: learn: 0.3426483\ttotal: 5m 44s\tremaining: 20m 8s\n",
      "82: learn: 0.3421785\ttotal: 5m 49s\tremaining: 20m 8s\n",
      "83: learn: 0.3421378\ttotal: 5m 53s\tremaining: 20m 4s\n",
      "84: learn: 0.3421207\ttotal: 5m 57s\tremaining: 19m 59s\n",
      "85: learn: 0.3420179\ttotal: 6m 2s\tremaining: 19m 56s\n",
      "86: learn: 0.3419747\ttotal: 6m 6s\tremaining: 19m 52s\n",
      "87: learn: 0.3418126\ttotal: 6m 10s\tremaining: 19m 48s\n",
      "88: learn: 0.3416194\ttotal: 6m 15s\tremaining: 19m 45s\n",
      "89: learn: 0.3411135\ttotal: 6m 20s\tremaining: 19m 42s\n",
      "90: learn: 0.3410964\ttotal: 6m 23s\tremaining: 19m 36s\n",
      "91: learn: 0.3402283\ttotal: 6m 28s\tremaining: 19m 33s\n",
      "92: learn: 0.3385508\ttotal: 6m 33s\tremaining: 19m 31s\n",
      "93: learn: 0.3376469\ttotal: 6m 37s\tremaining: 19m 27s\n",
      "94: learn: 0.335579\ttotal: 6m 43s\tremaining: 19m 26s\n",
      "95: learn: 0.3346538\ttotal: 6m 47s\tremaining: 19m 24s\n",
      "96: learn: 0.3346038\ttotal: 6m 52s\tremaining: 19m 21s\n",
      "97: learn: 0.3345835\ttotal: 6m 56s\tremaining: 19m 15s\n",
      "98: learn: 0.3338323\ttotal: 7m 1s\tremaining: 19m 13s\n",
      "99: learn: 0.3335437\ttotal: 7m 5s\tremaining: 19m 9s\n",
      "100: learn: 0.3334707\ttotal: 7m 9s\tremaining: 19m 4s\n",
      "101: learn: 0.3334669\ttotal: 7m 14s\tremaining: 19m\n",
      "102: learn: 0.3334555\ttotal: 7m 18s\tremaining: 18m 55s\n",
      "103: learn: 0.333445\ttotal: 7m 22s\tremaining: 18m 50s\n",
      "104: learn: 0.3334271\ttotal: 7m 25s\tremaining: 18m 44s\n",
      "105: learn: 0.3333591\ttotal: 7m 29s\tremaining: 18m 40s\n",
      "106: learn: 0.3331141\ttotal: 7m 34s\tremaining: 18m 36s\n",
      "107: learn: 0.3328961\ttotal: 7m 38s\tremaining: 18m 32s\n",
      "108: learn: 0.3322374\ttotal: 7m 43s\tremaining: 18m 30s\n",
      "109: learn: 0.3317964\ttotal: 7m 47s\tremaining: 18m 25s\n",
      "110: learn: 0.331782\ttotal: 7m 51s\tremaining: 18m 20s\n",
      "111: learn: 0.3316362\ttotal: 7m 55s\tremaining: 18m 16s\n",
      "112: learn: 0.3309082\ttotal: 8m 1s\tremaining: 18m 14s\n",
      "113: learn: 0.3307852\ttotal: 8m 6s\tremaining: 18m 11s\n",
      "114: learn: 0.3307515\ttotal: 8m 10s\tremaining: 18m 8s\n",
      "115: learn: 0.3307217\ttotal: 8m 14s\tremaining: 18m 1s\n",
      "116: learn: 0.3306767\ttotal: 8m 18s\tremaining: 17m 58s\n",
      "117: learn: 0.3299716\ttotal: 8m 23s\tremaining: 17m 54s\n",
      "118: learn: 0.3293536\ttotal: 8m 26s\tremaining: 17m 48s\n",
      "119: learn: 0.3290469\ttotal: 8m 31s\tremaining: 17m 45s\n",
      "120: learn: 0.3290167\ttotal: 8m 35s\tremaining: 17m 40s\n",
      "121: learn: 0.3290019\ttotal: 8m 39s\tremaining: 17m 36s\n",
      "122: learn: 0.3284366\ttotal: 8m 45s\tremaining: 17m 34s\n",
      "123: learn: 0.3277101\ttotal: 8m 50s\tremaining: 17m 31s\n",
      "124: learn: 0.3276927\ttotal: 8m 53s\tremaining: 17m 26s\n",
      "125: learn: 0.3276836\ttotal: 8m 57s\tremaining: 17m 21s\n",
      "126: learn: 0.3269763\ttotal: 9m 2s\tremaining: 17m 17s\n",
      "127: learn: 0.3268201\ttotal: 9m 6s\tremaining: 17m 13s\n",
      "128: learn: 0.3268085\ttotal: 9m 10s\tremaining: 17m 7s\n",
      "129: learn: 0.3267819\ttotal: 9m 14s\tremaining: 17m 3s\n",
      "130: learn: 0.3255884\ttotal: 9m 19s\tremaining: 17m 1s\n",
      "131: learn: 0.3251187\ttotal: 9m 24s\tremaining: 16m 58s\n",
      "132: learn: 0.3237665\ttotal: 9m 29s\tremaining: 16m 54s\n",
      "133: learn: 0.323607\ttotal: 9m 33s\tremaining: 16m 50s\n",
      "134: learn: 0.3233485\ttotal: 9m 38s\tremaining: 16m 46s\n",
      "135: learn: 0.3231417\ttotal: 9m 43s\tremaining: 16m 43s\n",
      "136: learn: 0.3225268\ttotal: 9m 47s\tremaining: 16m 39s\n",
      "137: learn: 0.3220248\ttotal: 9m 52s\tremaining: 16m 35s\n",
      "138: learn: 0.3220008\ttotal: 9m 56s\tremaining: 16m 31s\n",
      "139: learn: 0.3214231\ttotal: 10m 1s\tremaining: 16m 28s\n",
      "140: learn: 0.3206953\ttotal: 10m 6s\tremaining: 16m 25s\n",
      "141: learn: 0.3199868\ttotal: 10m 11s\tremaining: 16m 21s\n",
      "142: learn: 0.3199597\ttotal: 10m 15s\tremaining: 16m 17s\n",
      "143: learn: 0.3199583\ttotal: 10m 19s\tremaining: 16m 12s\n",
      "144: learn: 0.3199314\ttotal: 10m 23s\tremaining: 16m 7s\n",
      "145: learn: 0.3199291\ttotal: 10m 28s\tremaining: 16m 3s\n",
      "146: learn: 0.3199283\ttotal: 10m 33s\tremaining: 16m\n",
      "147: learn: 0.3199215\ttotal: 10m 36s\tremaining: 15m 54s\n",
      "148: learn: 0.3198186\ttotal: 10m 41s\tremaining: 15m 50s\n",
      "149: learn: 0.3190517\ttotal: 10m 46s\tremaining: 15m 48s\n",
      "150: learn: 0.3183118\ttotal: 10m 51s\tremaining: 15m 45s\n",
      "151: learn: 0.3167689\ttotal: 10m 56s\tremaining: 15m 41s\n",
      "152: learn: 0.3156702\ttotal: 11m 1s\tremaining: 15m 38s\n"
     ]
    },
    {
     "name": "stdout",
     "output_type": "stream",
     "text": [
      "153: learn: 0.3151402\ttotal: 11m 6s\tremaining: 15m 34s\n",
      "154: learn: 0.3144836\ttotal: 11m 11s\tremaining: 15m 31s\n",
      "155: learn: 0.3144321\ttotal: 11m 16s\tremaining: 15m 27s\n",
      "156: learn: 0.3144277\ttotal: 11m 20s\tremaining: 15m 23s\n",
      "157: learn: 0.3144228\ttotal: 11m 24s\tremaining: 15m 18s\n",
      "158: learn: 0.3138821\ttotal: 11m 29s\tremaining: 15m 15s\n",
      "159: learn: 0.3138794\ttotal: 11m 32s\tremaining: 15m 9s\n",
      "160: learn: 0.3138754\ttotal: 11m 35s\tremaining: 15m 3s\n",
      "161: learn: 0.3137803\ttotal: 11m 39s\tremaining: 14m 58s\n",
      "162: learn: 0.3136917\ttotal: 11m 43s\tremaining: 14m 53s\n",
      "163: learn: 0.31369\ttotal: 11m 48s\tremaining: 14m 49s\n",
      "164: learn: 0.3136849\ttotal: 11m 52s\tremaining: 14m 45s\n",
      "165: learn: 0.3136775\ttotal: 11m 56s\tremaining: 14m 40s\n",
      "166: learn: 0.31109\ttotal: 12m 1s\tremaining: 14m 37s\n",
      "167: learn: 0.3097545\ttotal: 12m 6s\tremaining: 14m 33s\n",
      "168: learn: 0.3088046\ttotal: 12m 12s\tremaining: 14m 30s\n",
      "169: learn: 0.3083442\ttotal: 12m 16s\tremaining: 14m 26s\n",
      "170: learn: 0.3073979\ttotal: 12m 21s\tremaining: 14m 22s\n",
      "171: learn: 0.3071029\ttotal: 12m 26s\tremaining: 14m 19s\n",
      "172: learn: 0.3062632\ttotal: 12m 31s\tremaining: 14m 16s\n",
      "173: learn: 0.3056011\ttotal: 12m 36s\tremaining: 14m 12s\n",
      "174: learn: 0.3055883\ttotal: 12m 40s\tremaining: 14m 7s\n",
      "175: learn: 0.3055732\ttotal: 12m 45s\tremaining: 14m 3s\n",
      "176: learn: 0.3055722\ttotal: 12m 49s\tremaining: 13m 59s\n",
      "177: learn: 0.3055438\ttotal: 12m 53s\tremaining: 13m 54s\n",
      "178: learn: 0.3055404\ttotal: 12m 57s\tremaining: 13m 49s\n",
      "179: learn: 0.3055386\ttotal: 13m 1s\tremaining: 13m 44s\n",
      "180: learn: 0.3029383\ttotal: 13m 6s\tremaining: 13m 40s\n",
      "181: learn: 0.3023066\ttotal: 13m 11s\tremaining: 13m 37s\n",
      "182: learn: 0.3020921\ttotal: 13m 15s\tremaining: 13m 33s\n",
      "183: learn: 0.3020887\ttotal: 13m 19s\tremaining: 13m 28s\n",
      "184: learn: 0.3020882\ttotal: 13m 23s\tremaining: 13m 23s\n",
      "185: learn: 0.3020767\ttotal: 13m 27s\tremaining: 13m 18s\n",
      "186: learn: 0.3000713\ttotal: 13m 32s\tremaining: 13m 14s\n",
      "187: learn: 0.2988913\ttotal: 13m 36s\tremaining: 13m 10s\n",
      "188: learn: 0.2986294\ttotal: 13m 40s\tremaining: 13m 6s\n",
      "189: learn: 0.2968984\ttotal: 13m 45s\tremaining: 13m 2s\n",
      "190: learn: 0.2961182\ttotal: 13m 49s\tremaining: 12m 57s\n",
      "191: learn: 0.296106\ttotal: 13m 53s\tremaining: 12m 53s\n",
      "192: learn: 0.2961026\ttotal: 13m 57s\tremaining: 12m 48s\n",
      "193: learn: 0.296092\ttotal: 14m 1s\tremaining: 12m 43s\n",
      "194: learn: 0.2960669\ttotal: 14m 6s\tremaining: 12m 39s\n",
      "195: learn: 0.2960597\ttotal: 14m 10s\tremaining: 12m 34s\n",
      "196: learn: 0.2960567\ttotal: 14m 13s\tremaining: 12m 29s\n",
      "197: learn: 0.2960531\ttotal: 14m 17s\tremaining: 12m 24s\n",
      "198: learn: 0.2960431\ttotal: 14m 21s\tremaining: 12m 20s\n",
      "199: learn: 0.2960415\ttotal: 14m 25s\tremaining: 12m 15s\n",
      "200: learn: 0.295981\ttotal: 14m 29s\tremaining: 12m 11s\n",
      "201: learn: 0.2959779\ttotal: 14m 33s\tremaining: 12m 6s\n",
      "202: learn: 0.2959718\ttotal: 14m 37s\tremaining: 12m 1s\n",
      "203: learn: 0.2959708\ttotal: 14m 40s\tremaining: 11m 56s\n",
      "204: learn: 0.2959648\ttotal: 14m 44s\tremaining: 11m 51s\n",
      "205: learn: 0.2959556\ttotal: 14m 48s\tremaining: 11m 47s\n",
      "206: learn: 0.295954\ttotal: 14m 52s\tremaining: 11m 42s\n",
      "207: learn: 0.2959533\ttotal: 14m 56s\tremaining: 11m 38s\n",
      "208: learn: 0.2959531\ttotal: 15m\tremaining: 11m 33s\n",
      "209: learn: 0.2959528\ttotal: 15m 4s\tremaining: 11m 29s\n",
      "210: learn: 0.2959411\ttotal: 15m 7s\tremaining: 11m 24s\n",
      "211: learn: 0.2959325\ttotal: 15m 12s\tremaining: 11m 20s\n",
      "212: learn: 0.2959243\ttotal: 15m 16s\tremaining: 11m 15s\n",
      "213: learn: 0.2958565\ttotal: 15m 20s\tremaining: 11m 11s\n",
      "214: learn: 0.2950875\ttotal: 15m 26s\tremaining: 11m 7s\n",
      "215: learn: 0.2950523\ttotal: 15m 31s\tremaining: 11m 4s\n",
      "216: learn: 0.2939978\ttotal: 15m 36s\tremaining: 11m\n",
      "217: learn: 0.2939737\ttotal: 15m 41s\tremaining: 10m 56s\n",
      "218: learn: 0.2939186\ttotal: 15m 45s\tremaining: 10m 52s\n",
      "219: learn: 0.2939065\ttotal: 15m 49s\tremaining: 10m 47s\n",
      "220: learn: 0.2936405\ttotal: 15m 55s\tremaining: 10m 44s\n",
      "221: learn: 0.2936357\ttotal: 15m 59s\tremaining: 10m 39s\n",
      "222: learn: 0.2936323\ttotal: 16m 3s\tremaining: 10m 35s\n",
      "223: learn: 0.2936199\ttotal: 16m 7s\tremaining: 10m 30s\n",
      "224: learn: 0.293471\ttotal: 16m 12s\tremaining: 10m 26s\n",
      "225: learn: 0.2926627\ttotal: 16m 17s\tremaining: 10m 22s\n",
      "226: learn: 0.2918342\ttotal: 16m 22s\tremaining: 10m 19s\n",
      "227: learn: 0.2918118\ttotal: 16m 26s\tremaining: 10m 14s\n",
      "228: learn: 0.2918099\ttotal: 16m 30s\tremaining: 10m 9s\n",
      "229: learn: 0.2918081\ttotal: 16m 34s\tremaining: 10m 5s\n",
      "230: learn: 0.2917697\ttotal: 16m 38s\tremaining: 10m\n",
      "231: learn: 0.2917666\ttotal: 16m 42s\tremaining: 9m 56s\n",
      "232: learn: 0.2917618\ttotal: 16m 47s\tremaining: 9m 52s\n",
      "233: learn: 0.291497\ttotal: 16m 51s\tremaining: 9m 48s\n",
      "234: learn: 0.291427\ttotal: 16m 56s\tremaining: 9m 43s\n",
      "235: learn: 0.2906772\ttotal: 17m\tremaining: 9m 39s\n",
      "236: learn: 0.2901299\ttotal: 17m 5s\tremaining: 9m 35s\n",
      "237: learn: 0.2890251\ttotal: 17m 10s\tremaining: 9m 31s\n",
      "238: learn: 0.2882877\ttotal: 17m 14s\tremaining: 9m 27s\n",
      "239: learn: 0.287932\ttotal: 17m 19s\tremaining: 9m 23s\n",
      "240: learn: 0.2879215\ttotal: 17m 23s\tremaining: 9m 18s\n",
      "241: learn: 0.2879171\ttotal: 17m 27s\tremaining: 9m 14s\n",
      "242: learn: 0.2879104\ttotal: 17m 30s\tremaining: 9m 9s\n",
      "243: learn: 0.2879091\ttotal: 17m 34s\tremaining: 9m 4s\n",
      "244: learn: 0.2879077\ttotal: 17m 38s\tremaining: 9m\n",
      "245: learn: 0.2879074\ttotal: 17m 42s\tremaining: 8m 55s\n",
      "246: learn: 0.2878587\ttotal: 17m 47s\tremaining: 8m 51s\n",
      "247: learn: 0.2878581\ttotal: 17m 51s\tremaining: 8m 46s\n",
      "248: learn: 0.287858\ttotal: 17m 54s\tremaining: 8m 42s\n",
      "249: learn: 0.287858\ttotal: 17m 59s\tremaining: 8m 38s\n",
      "250: learn: 0.2878508\ttotal: 18m 4s\tremaining: 8m 33s\n",
      "251: learn: 0.2878489\ttotal: 18m 7s\tremaining: 8m 29s\n",
      "252: learn: 0.2878487\ttotal: 18m 11s\tremaining: 8m 24s\n",
      "253: learn: 0.2878182\ttotal: 18m 16s\tremaining: 8m 20s\n",
      "254: learn: 0.2875487\ttotal: 18m 21s\tremaining: 8m 16s\n",
      "255: learn: 0.2874707\ttotal: 18m 25s\tremaining: 8m 12s\n",
      "256: learn: 0.2874625\ttotal: 18m 29s\tremaining: 8m 7s\n",
      "257: learn: 0.2867397\ttotal: 18m 33s\tremaining: 8m 3s\n",
      "258: learn: 0.286374\ttotal: 18m 37s\tremaining: 7m 59s\n",
      "259: learn: 0.2863563\ttotal: 18m 43s\tremaining: 7m 55s\n",
      "260: learn: 0.28634\ttotal: 18m 47s\tremaining: 7m 50s\n",
      "261: learn: 0.2851345\ttotal: 18m 52s\tremaining: 7m 46s\n",
      "262: learn: 0.28408\ttotal: 18m 57s\tremaining: 7m 42s\n",
      "263: learn: 0.2840765\ttotal: 19m 2s\tremaining: 7m 38s\n",
      "264: learn: 0.2840753\ttotal: 19m 6s\tremaining: 7m 34s\n",
      "265: learn: 0.2835725\ttotal: 19m 11s\tremaining: 7m 30s\n",
      "266: learn: 0.2829476\ttotal: 19m 16s\tremaining: 7m 26s\n",
      "267: learn: 0.2815198\ttotal: 19m 21s\tremaining: 7m 22s\n",
      "268: learn: 0.2804064\ttotal: 19m 26s\tremaining: 7m 18s\n",
      "269: learn: 0.2777091\ttotal: 19m 32s\tremaining: 7m 14s\n",
      "270: learn: 0.2770006\ttotal: 19m 37s\tremaining: 7m 10s\n",
      "271: learn: 0.2768501\ttotal: 19m 43s\tremaining: 7m 6s\n",
      "272: learn: 0.2760803\ttotal: 19m 48s\tremaining: 7m 2s\n",
      "273: learn: 0.2750397\ttotal: 19m 53s\tremaining: 6m 58s\n",
      "274: learn: 0.2750334\ttotal: 19m 57s\tremaining: 6m 53s\n",
      "275: learn: 0.2750315\ttotal: 20m 1s\tremaining: 6m 49s\n",
      "276: learn: 0.2750312\ttotal: 20m 5s\tremaining: 6m 44s\n",
      "277: learn: 0.2749624\ttotal: 20m 10s\tremaining: 6m 40s\n",
      "278: learn: 0.2749339\ttotal: 20m 14s\tremaining: 6m 36s\n",
      "279: learn: 0.2749329\ttotal: 20m 18s\tremaining: 6m 31s\n",
      "280: learn: 0.2749325\ttotal: 20m 22s\tremaining: 6m 27s\n",
      "281: learn: 0.2749324\ttotal: 20m 26s\tremaining: 6m 22s\n",
      "282: learn: 0.2746659\ttotal: 20m 31s\tremaining: 6m 18s\n",
      "283: learn: 0.2738559\ttotal: 20m 36s\tremaining: 6m 14s\n",
      "284: learn: 0.2737482\ttotal: 20m 41s\tremaining: 6m 10s\n",
      "285: learn: 0.2727105\ttotal: 20m 47s\tremaining: 6m 6s\n",
      "286: learn: 0.2724204\ttotal: 20m 52s\tremaining: 6m 2s\n",
      "287: learn: 0.2724173\ttotal: 20m 56s\tremaining: 5m 57s\n",
      "288: learn: 0.2724165\ttotal: 21m\tremaining: 5m 53s\n",
      "289: learn: 0.2723645\ttotal: 21m 4s\tremaining: 5m 48s\n",
      "290: learn: 0.272349\ttotal: 21m 9s\tremaining: 5m 44s\n",
      "291: learn: 0.2720592\ttotal: 21m 14s\tremaining: 5m 40s\n",
      "292: learn: 0.2716305\ttotal: 21m 19s\tremaining: 5m 36s\n",
      "293: learn: 0.2703819\ttotal: 21m 24s\tremaining: 5m 32s\n",
      "294: learn: 0.2697165\ttotal: 21m 29s\tremaining: 5m 27s\n",
      "295: learn: 0.2696995\ttotal: 21m 32s\tremaining: 5m 23s\n",
      "296: learn: 0.2696962\ttotal: 21m 36s\tremaining: 5m 18s\n",
      "297: learn: 0.2696944\ttotal: 21m 40s\tremaining: 5m 14s\n",
      "298: learn: 0.2692125\ttotal: 21m 45s\tremaining: 5m 10s\n",
      "299: learn: 0.2681843\ttotal: 21m 50s\tremaining: 5m 5s\n",
      "300: learn: 0.2680696\ttotal: 21m 55s\tremaining: 5m 1s\n",
      "301: learn: 0.2676235\ttotal: 22m\tremaining: 4m 57s\n",
      "302: learn: 0.2675757\ttotal: 22m 5s\tremaining: 4m 53s\n"
     ]
    },
    {
     "name": "stdout",
     "output_type": "stream",
     "text": [
      "303: learn: 0.2675539\ttotal: 22m 9s\tremaining: 4m 48s\n",
      "304: learn: 0.2675511\ttotal: 22m 13s\tremaining: 4m 44s\n",
      "305: learn: 0.2675489\ttotal: 22m 17s\tremaining: 4m 39s\n",
      "306: learn: 0.2675015\ttotal: 22m 21s\tremaining: 4m 35s\n",
      "307: learn: 0.2674847\ttotal: 22m 26s\tremaining: 4m 30s\n",
      "308: learn: 0.2674839\ttotal: 22m 29s\tremaining: 4m 26s\n",
      "309: learn: 0.2674633\ttotal: 22m 33s\tremaining: 4m 22s\n",
      "310: learn: 0.2674632\ttotal: 22m 38s\tremaining: 4m 17s\n",
      "311: learn: 0.2674618\ttotal: 22m 41s\tremaining: 4m 13s\n",
      "312: learn: 0.2674582\ttotal: 22m 45s\tremaining: 4m 8s\n",
      "313: learn: 0.2674529\ttotal: 22m 49s\tremaining: 4m 4s\n",
      "314: learn: 0.2674359\ttotal: 22m 53s\tremaining: 3m 59s\n",
      "315: learn: 0.2674353\ttotal: 22m 56s\tremaining: 3m 55s\n",
      "316: learn: 0.267425\ttotal: 23m\tremaining: 3m 50s\n",
      "317: learn: 0.2674244\ttotal: 23m 5s\tremaining: 3m 46s\n",
      "318: learn: 0.2671878\ttotal: 23m 10s\tremaining: 3m 42s\n",
      "319: learn: 0.2670545\ttotal: 23m 14s\tremaining: 3m 37s\n",
      "320: learn: 0.2664956\ttotal: 23m 19s\tremaining: 3m 33s\n",
      "321: learn: 0.2658183\ttotal: 23m 24s\tremaining: 3m 29s\n",
      "322: learn: 0.265524\ttotal: 23m 30s\tremaining: 3m 25s\n",
      "323: learn: 0.2655166\ttotal: 23m 34s\tremaining: 3m 20s\n",
      "324: learn: 0.2655158\ttotal: 23m 38s\tremaining: 3m 16s\n",
      "325: learn: 0.2654919\ttotal: 23m 42s\tremaining: 3m 12s\n",
      "326: learn: 0.2654786\ttotal: 23m 47s\tremaining: 3m 7s\n",
      "327: learn: 0.2654783\ttotal: 23m 51s\tremaining: 3m 3s\n",
      "328: learn: 0.2654782\ttotal: 23m 55s\tremaining: 2m 58s\n",
      "329: learn: 0.2654777\ttotal: 23m 59s\tremaining: 2m 54s\n",
      "330: learn: 0.2652582\ttotal: 24m 4s\tremaining: 2m 50s\n",
      "331: learn: 0.2652524\ttotal: 24m 8s\tremaining: 2m 45s\n",
      "332: learn: 0.2652495\ttotal: 24m 11s\tremaining: 2m 41s\n",
      "333: learn: 0.2652487\ttotal: 24m 15s\tremaining: 2m 36s\n",
      "334: learn: 0.2652486\ttotal: 24m 18s\tremaining: 2m 32s\n",
      "335: learn: 0.2652478\ttotal: 24m 22s\tremaining: 2m 28s\n",
      "336: learn: 0.2650556\ttotal: 24m 28s\tremaining: 2m 23s\n",
      "337: learn: 0.2635663\ttotal: 24m 33s\tremaining: 2m 19s\n",
      "338: learn: 0.2620515\ttotal: 24m 38s\tremaining: 2m 15s\n",
      "339: learn: 0.2620211\ttotal: 24m 42s\tremaining: 2m 10s\n",
      "340: learn: 0.2620085\ttotal: 24m 47s\tremaining: 2m 6s\n",
      "341: learn: 0.2619984\ttotal: 24m 52s\tremaining: 2m 2s\n",
      "342: learn: 0.2619928\ttotal: 24m 57s\tremaining: 1m 57s\n",
      "343: learn: 0.2619926\ttotal: 25m\tremaining: 1m 53s\n",
      "344: learn: 0.2619923\ttotal: 25m 3s\tremaining: 1m 48s\n",
      "345: learn: 0.2603256\ttotal: 25m 9s\tremaining: 1m 44s\n",
      "346: learn: 0.2601598\ttotal: 25m 13s\tremaining: 1m 40s\n",
      "347: learn: 0.2599786\ttotal: 25m 18s\tremaining: 1m 35s\n",
      "348: learn: 0.2598432\ttotal: 25m 22s\tremaining: 1m 31s\n",
      "349: learn: 0.2598429\ttotal: 25m 27s\tremaining: 1m 27s\n",
      "350: learn: 0.259565\ttotal: 25m 31s\tremaining: 1m 22s\n",
      "351: learn: 0.2580858\ttotal: 25m 36s\tremaining: 1m 18s\n",
      "352: learn: 0.2576173\ttotal: 25m 42s\tremaining: 1m 14s\n",
      "353: learn: 0.2568677\ttotal: 25m 47s\tremaining: 1m 9s\n",
      "354: learn: 0.25593\ttotal: 25m 52s\tremaining: 1m 5s\n",
      "355: learn: 0.2550219\ttotal: 25m 57s\tremaining: 1m 1s\n",
      "356: learn: 0.2550161\ttotal: 26m 2s\tremaining: 56.9s\n",
      "357: learn: 0.2550155\ttotal: 26m 6s\tremaining: 52.5s\n",
      "358: learn: 0.2550021\ttotal: 26m 9s\tremaining: 48.1s\n",
      "359: learn: 0.2550013\ttotal: 26m 13s\tremaining: 43.7s\n",
      "360: learn: 0.2549838\ttotal: 26m 18s\tremaining: 39.4s\n",
      "361: learn: 0.2549684\ttotal: 26m 23s\tremaining: 35s\n",
      "362: learn: 0.254851\ttotal: 26m 27s\tremaining: 30.6s\n",
      "363: learn: 0.2548498\ttotal: 26m 32s\tremaining: 26.2s\n",
      "364: learn: 0.2548388\ttotal: 26m 36s\tremaining: 21.9s\n",
      "365: learn: 0.2548376\ttotal: 26m 40s\tremaining: 17.5s\n",
      "366: learn: 0.2544978\ttotal: 26m 44s\tremaining: 13.1s\n",
      "367: learn: 0.2540965\ttotal: 26m 49s\tremaining: 8.75s\n",
      "368: learn: 0.254044\ttotal: 26m 55s\tremaining: 4.38s\n",
      "369: learn: 0.2531217\ttotal: 27m\tremaining: 0us\n",
      "Wall time: 27min 10s\n"
     ]
    }
   ],
   "source": [
    "%%time\n",
    "# cat = CatBoostClassifier(iterations = 500, learning_rate=0.09, loss_function='Logloss', verbose=True, depth=10)\n",
    "cat = CatBoostClassifier(iterations = 370, learning_rate=1, loss_function='Logloss', verbose=True, depth=10)\n",
    "cat.fit(df_interact[:100000], y_train, cat_features=cat_features_idx)"
   ]
  },
  {
   "cell_type": "code",
   "execution_count": 26,
   "metadata": {},
   "outputs": [
    {
     "name": "stdout",
     "output_type": "stream",
     "text": [
      "0.850966666667 CAT\n",
      "0.763597958113\n"
     ]
    }
   ],
   "source": [
    "from sklearn.metrics import accuracy_score\n",
    "print(accuracy_score(y_train[70000:], cat.predict(df_interact[70000:100000])), \"CAT\")\n",
    "cat_valid_pred = cat.predict_proba(X_valid)[:, 1]\n",
    "print(roc_auc_score(y_valid, cat_valid_pred))\n",
    "cat_test_pred = cat.predict_proba(df_interact[100000:])[:, 1]\n",
    "pd.Series(cat_test_pred, name='dep_delayed_15min').to_csv('cat_2feat.csv', index_label='id', header=True)"
   ]
  },
  {
   "cell_type": "code",
   "execution_count": 10,
   "metadata": {},
   "outputs": [
    {
     "name": "stdout",
     "output_type": "stream",
     "text": [
      "0.871133333333 CAT\n",
      "0.896627821681\n"
     ]
    }
   ],
   "source": [
    "from sklearn.metrics import accuracy_score\n",
    "print(accuracy_score(y_train[70000:], cat.predict(df_interact[70000:100000])), \"CAT\")\n",
    "cat_valid_pred = cat.predict_proba(X_valid)[:, 1]\n",
    "print(roc_auc_score(y_valid, cat_valid_pred))"
   ]
  },
  {
   "cell_type": "code",
   "execution_count": 11,
   "metadata": {
    "collapsed": true
   },
   "outputs": [],
   "source": [
    "cat_test_pred = cat.predict_proba(df_interact[100000:])[:, 1]\n",
    "pd.Series(cat_test_pred, name='dep_delayed_15min').to_csv('cat_2feat.csv', index_label='id', header=True)"
   ]
  },
  {
   "cell_type": "code",
   "execution_count": 14,
   "metadata": {},
   "outputs": [
    {
     "name": "stdout",
     "output_type": "stream",
     "text": [
      "0.870766666667 CAT\n",
      "0.888844459444\n"
     ]
    }
   ],
   "source": [
    "from sklearn.metrics import accuracy_score\n",
    "print(accuracy_score(y_train[70000:], cat.predict(df_interact[70000:100000])), \"CAT\")\n",
    "cat_valid_pred = cat.predict_proba(X_valid)[:, 1]\n",
    "print(roc_auc_score(y_valid, cat_valid_pred))"
   ]
  },
  {
   "cell_type": "code",
   "execution_count": 12,
   "metadata": {},
   "outputs": [
    {
     "name": "stdout",
     "output_type": "stream",
     "text": [
      "\n"
     ]
    }
   ],
   "source": [
    "print()"
   ]
  },
  {
   "cell_type": "code",
   "execution_count": 11,
   "metadata": {
    "collapsed": true
   },
   "outputs": [],
   "source": [
    "train['Root'] = train['Origin'] + \"_\" + train['Dest']\n",
    "test['Root'] = test['Origin'] + \"_\" + test['Dest']"
   ]
  },
  {
   "cell_type": "code",
   "execution_count": 12,
   "metadata": {},
   "outputs": [
    {
     "data": {
      "text/html": [
       "<div>\n",
       "<style>\n",
       "    .dataframe thead tr:only-child th {\n",
       "        text-align: right;\n",
       "    }\n",
       "\n",
       "    .dataframe thead th {\n",
       "        text-align: left;\n",
       "    }\n",
       "\n",
       "    .dataframe tbody tr th {\n",
       "        vertical-align: top;\n",
       "    }\n",
       "</style>\n",
       "<table border=\"1\" class=\"dataframe\">\n",
       "  <thead>\n",
       "    <tr style=\"text-align: right;\">\n",
       "      <th></th>\n",
       "      <th>Month</th>\n",
       "      <th>DayofMonth</th>\n",
       "      <th>DayOfWeek</th>\n",
       "      <th>DepTime</th>\n",
       "      <th>UniqueCarrier</th>\n",
       "      <th>Origin</th>\n",
       "      <th>Dest</th>\n",
       "      <th>Distance</th>\n",
       "      <th>dep_delayed_15min</th>\n",
       "      <th>Root</th>\n",
       "    </tr>\n",
       "  </thead>\n",
       "  <tbody>\n",
       "    <tr>\n",
       "      <th>0</th>\n",
       "      <td>c-8</td>\n",
       "      <td>c-21</td>\n",
       "      <td>c-7</td>\n",
       "      <td>1934</td>\n",
       "      <td>AA</td>\n",
       "      <td>ATL</td>\n",
       "      <td>DFW</td>\n",
       "      <td>732</td>\n",
       "      <td>N</td>\n",
       "      <td>ATL_DFW</td>\n",
       "    </tr>\n",
       "    <tr>\n",
       "      <th>1</th>\n",
       "      <td>c-4</td>\n",
       "      <td>c-20</td>\n",
       "      <td>c-3</td>\n",
       "      <td>1548</td>\n",
       "      <td>US</td>\n",
       "      <td>PIT</td>\n",
       "      <td>MCO</td>\n",
       "      <td>834</td>\n",
       "      <td>N</td>\n",
       "      <td>PIT_MCO</td>\n",
       "    </tr>\n",
       "    <tr>\n",
       "      <th>2</th>\n",
       "      <td>c-9</td>\n",
       "      <td>c-2</td>\n",
       "      <td>c-5</td>\n",
       "      <td>1422</td>\n",
       "      <td>XE</td>\n",
       "      <td>RDU</td>\n",
       "      <td>CLE</td>\n",
       "      <td>416</td>\n",
       "      <td>N</td>\n",
       "      <td>RDU_CLE</td>\n",
       "    </tr>\n",
       "    <tr>\n",
       "      <th>3</th>\n",
       "      <td>c-11</td>\n",
       "      <td>c-25</td>\n",
       "      <td>c-6</td>\n",
       "      <td>1015</td>\n",
       "      <td>OO</td>\n",
       "      <td>DEN</td>\n",
       "      <td>MEM</td>\n",
       "      <td>872</td>\n",
       "      <td>N</td>\n",
       "      <td>DEN_MEM</td>\n",
       "    </tr>\n",
       "    <tr>\n",
       "      <th>4</th>\n",
       "      <td>c-10</td>\n",
       "      <td>c-7</td>\n",
       "      <td>c-6</td>\n",
       "      <td>1828</td>\n",
       "      <td>WN</td>\n",
       "      <td>MDW</td>\n",
       "      <td>OMA</td>\n",
       "      <td>423</td>\n",
       "      <td>Y</td>\n",
       "      <td>MDW_OMA</td>\n",
       "    </tr>\n",
       "  </tbody>\n",
       "</table>\n",
       "</div>"
      ],
      "text/plain": [
       "  Month DayofMonth DayOfWeek  DepTime UniqueCarrier Origin Dest  Distance  \\\n",
       "0   c-8       c-21       c-7     1934            AA    ATL  DFW       732   \n",
       "1   c-4       c-20       c-3     1548            US    PIT  MCO       834   \n",
       "2   c-9        c-2       c-5     1422            XE    RDU  CLE       416   \n",
       "3  c-11       c-25       c-6     1015            OO    DEN  MEM       872   \n",
       "4  c-10        c-7       c-6     1828            WN    MDW  OMA       423   \n",
       "\n",
       "  dep_delayed_15min     Root  \n",
       "0                 N  ATL_DFW  \n",
       "1                 N  PIT_MCO  \n",
       "2                 N  RDU_CLE  \n",
       "3                 N  DEN_MEM  \n",
       "4                 Y  MDW_OMA  "
      ]
     },
     "execution_count": 12,
     "metadata": {},
     "output_type": "execute_result"
    }
   ],
   "source": [
    "train.head()"
   ]
  },
  {
   "cell_type": "code",
   "execution_count": 13,
   "metadata": {
    "collapsed": true
   },
   "outputs": [],
   "source": [
    "X_train, y_train = train[['Month', 'DayofMonth', 'DayOfWeek', 'DepTime', 'UniqueCarrier','Distance', 'Root']], train['dep_delayed_15min'].map({'Y': 1, 'N': 0})\n",
    "X_test = test[['Month', 'DayofMonth', 'DayOfWeek', 'DepTime', 'UniqueCarrier', 'Distance', 'Root']]\n",
    "frames = [X_train, X_test]\n",
    "X = pd.concat(frames)\n",
    "df_interact = X.copy()"
   ]
  },
  {
   "cell_type": "code",
   "execution_count": 14,
   "metadata": {},
   "outputs": [
    {
     "data": {
      "text/html": [
       "<div>\n",
       "<style>\n",
       "    .dataframe thead tr:only-child th {\n",
       "        text-align: right;\n",
       "    }\n",
       "\n",
       "    .dataframe thead th {\n",
       "        text-align: left;\n",
       "    }\n",
       "\n",
       "    .dataframe tbody tr th {\n",
       "        vertical-align: top;\n",
       "    }\n",
       "</style>\n",
       "<table border=\"1\" class=\"dataframe\">\n",
       "  <thead>\n",
       "    <tr style=\"text-align: right;\">\n",
       "      <th></th>\n",
       "      <th>Month</th>\n",
       "      <th>DayofMonth</th>\n",
       "      <th>DayOfWeek</th>\n",
       "      <th>DepTime</th>\n",
       "      <th>UniqueCarrier</th>\n",
       "      <th>Distance</th>\n",
       "      <th>Root</th>\n",
       "    </tr>\n",
       "  </thead>\n",
       "  <tbody>\n",
       "    <tr>\n",
       "      <th>0</th>\n",
       "      <td>c-8</td>\n",
       "      <td>c-21</td>\n",
       "      <td>c-7</td>\n",
       "      <td>1934</td>\n",
       "      <td>AA</td>\n",
       "      <td>732</td>\n",
       "      <td>ATL_DFW</td>\n",
       "    </tr>\n",
       "    <tr>\n",
       "      <th>1</th>\n",
       "      <td>c-4</td>\n",
       "      <td>c-20</td>\n",
       "      <td>c-3</td>\n",
       "      <td>1548</td>\n",
       "      <td>US</td>\n",
       "      <td>834</td>\n",
       "      <td>PIT_MCO</td>\n",
       "    </tr>\n",
       "    <tr>\n",
       "      <th>2</th>\n",
       "      <td>c-9</td>\n",
       "      <td>c-2</td>\n",
       "      <td>c-5</td>\n",
       "      <td>1422</td>\n",
       "      <td>XE</td>\n",
       "      <td>416</td>\n",
       "      <td>RDU_CLE</td>\n",
       "    </tr>\n",
       "    <tr>\n",
       "      <th>3</th>\n",
       "      <td>c-11</td>\n",
       "      <td>c-25</td>\n",
       "      <td>c-6</td>\n",
       "      <td>1015</td>\n",
       "      <td>OO</td>\n",
       "      <td>872</td>\n",
       "      <td>DEN_MEM</td>\n",
       "    </tr>\n",
       "    <tr>\n",
       "      <th>4</th>\n",
       "      <td>c-10</td>\n",
       "      <td>c-7</td>\n",
       "      <td>c-6</td>\n",
       "      <td>1828</td>\n",
       "      <td>WN</td>\n",
       "      <td>423</td>\n",
       "      <td>MDW_OMA</td>\n",
       "    </tr>\n",
       "  </tbody>\n",
       "</table>\n",
       "</div>"
      ],
      "text/plain": [
       "  Month DayofMonth DayOfWeek  DepTime UniqueCarrier  Distance     Root\n",
       "0   c-8       c-21       c-7     1934            AA       732  ATL_DFW\n",
       "1   c-4       c-20       c-3     1548            US       834  PIT_MCO\n",
       "2   c-9        c-2       c-5     1422            XE       416  RDU_CLE\n",
       "3  c-11       c-25       c-6     1015            OO       872  DEN_MEM\n",
       "4  c-10        c-7       c-6     1828            WN       423  MDW_OMA"
      ]
     },
     "execution_count": 14,
     "metadata": {},
     "output_type": "execute_result"
    }
   ],
   "source": [
    "df_interact.head()"
   ]
  },
  {
   "cell_type": "code",
   "execution_count": 15,
   "metadata": {},
   "outputs": [
    {
     "name": "stdout",
     "output_type": "stream",
     "text": [
      "Wall time: 21.7 s\n"
     ]
    }
   ],
   "source": [
    "%%time\n",
    "df_interact = pd.get_dummies(df_interact, columns=['Month', 'DayofMonth', 'DayOfWeek', 'UniqueCarrier', 'Root'])"
   ]
  },
  {
   "cell_type": "code",
   "execution_count": 16,
   "metadata": {},
   "outputs": [
    {
     "data": {
      "text/html": [
       "<div>\n",
       "<style>\n",
       "    .dataframe thead tr:only-child th {\n",
       "        text-align: right;\n",
       "    }\n",
       "\n",
       "    .dataframe thead th {\n",
       "        text-align: left;\n",
       "    }\n",
       "\n",
       "    .dataframe tbody tr th {\n",
       "        vertical-align: top;\n",
       "    }\n",
       "</style>\n",
       "<table border=\"1\" class=\"dataframe\">\n",
       "  <thead>\n",
       "    <tr style=\"text-align: right;\">\n",
       "      <th></th>\n",
       "      <th>DepTime</th>\n",
       "      <th>Distance</th>\n",
       "      <th>Month_c-1</th>\n",
       "      <th>Month_c-10</th>\n",
       "      <th>Month_c-11</th>\n",
       "      <th>Month_c-12</th>\n",
       "      <th>Month_c-2</th>\n",
       "      <th>Month_c-3</th>\n",
       "      <th>Month_c-4</th>\n",
       "      <th>Month_c-5</th>\n",
       "      <th>...</th>\n",
       "      <th>Root_XNA_MSP</th>\n",
       "      <th>Root_XNA_ORD</th>\n",
       "      <th>Root_XNA_SLC</th>\n",
       "      <th>Root_YAK_CDV</th>\n",
       "      <th>Root_YAK_JNU</th>\n",
       "      <th>Root_YKM_SLC</th>\n",
       "      <th>Root_YUM_IPL</th>\n",
       "      <th>Root_YUM_LAS</th>\n",
       "      <th>Root_YUM_LAX</th>\n",
       "      <th>Root_YUM_PHX</th>\n",
       "    </tr>\n",
       "  </thead>\n",
       "  <tbody>\n",
       "    <tr>\n",
       "      <th>0</th>\n",
       "      <td>1934</td>\n",
       "      <td>732</td>\n",
       "      <td>0</td>\n",
       "      <td>0</td>\n",
       "      <td>0</td>\n",
       "      <td>0</td>\n",
       "      <td>0</td>\n",
       "      <td>0</td>\n",
       "      <td>0</td>\n",
       "      <td>0</td>\n",
       "      <td>...</td>\n",
       "      <td>0</td>\n",
       "      <td>0</td>\n",
       "      <td>0</td>\n",
       "      <td>0</td>\n",
       "      <td>0</td>\n",
       "      <td>0</td>\n",
       "      <td>0</td>\n",
       "      <td>0</td>\n",
       "      <td>0</td>\n",
       "      <td>0</td>\n",
       "    </tr>\n",
       "    <tr>\n",
       "      <th>1</th>\n",
       "      <td>1548</td>\n",
       "      <td>834</td>\n",
       "      <td>0</td>\n",
       "      <td>0</td>\n",
       "      <td>0</td>\n",
       "      <td>0</td>\n",
       "      <td>0</td>\n",
       "      <td>0</td>\n",
       "      <td>1</td>\n",
       "      <td>0</td>\n",
       "      <td>...</td>\n",
       "      <td>0</td>\n",
       "      <td>0</td>\n",
       "      <td>0</td>\n",
       "      <td>0</td>\n",
       "      <td>0</td>\n",
       "      <td>0</td>\n",
       "      <td>0</td>\n",
       "      <td>0</td>\n",
       "      <td>0</td>\n",
       "      <td>0</td>\n",
       "    </tr>\n",
       "    <tr>\n",
       "      <th>2</th>\n",
       "      <td>1422</td>\n",
       "      <td>416</td>\n",
       "      <td>0</td>\n",
       "      <td>0</td>\n",
       "      <td>0</td>\n",
       "      <td>0</td>\n",
       "      <td>0</td>\n",
       "      <td>0</td>\n",
       "      <td>0</td>\n",
       "      <td>0</td>\n",
       "      <td>...</td>\n",
       "      <td>0</td>\n",
       "      <td>0</td>\n",
       "      <td>0</td>\n",
       "      <td>0</td>\n",
       "      <td>0</td>\n",
       "      <td>0</td>\n",
       "      <td>0</td>\n",
       "      <td>0</td>\n",
       "      <td>0</td>\n",
       "      <td>0</td>\n",
       "    </tr>\n",
       "    <tr>\n",
       "      <th>3</th>\n",
       "      <td>1015</td>\n",
       "      <td>872</td>\n",
       "      <td>0</td>\n",
       "      <td>0</td>\n",
       "      <td>1</td>\n",
       "      <td>0</td>\n",
       "      <td>0</td>\n",
       "      <td>0</td>\n",
       "      <td>0</td>\n",
       "      <td>0</td>\n",
       "      <td>...</td>\n",
       "      <td>0</td>\n",
       "      <td>0</td>\n",
       "      <td>0</td>\n",
       "      <td>0</td>\n",
       "      <td>0</td>\n",
       "      <td>0</td>\n",
       "      <td>0</td>\n",
       "      <td>0</td>\n",
       "      <td>0</td>\n",
       "      <td>0</td>\n",
       "    </tr>\n",
       "    <tr>\n",
       "      <th>4</th>\n",
       "      <td>1828</td>\n",
       "      <td>423</td>\n",
       "      <td>0</td>\n",
       "      <td>1</td>\n",
       "      <td>0</td>\n",
       "      <td>0</td>\n",
       "      <td>0</td>\n",
       "      <td>0</td>\n",
       "      <td>0</td>\n",
       "      <td>0</td>\n",
       "      <td>...</td>\n",
       "      <td>0</td>\n",
       "      <td>0</td>\n",
       "      <td>0</td>\n",
       "      <td>0</td>\n",
       "      <td>0</td>\n",
       "      <td>0</td>\n",
       "      <td>0</td>\n",
       "      <td>0</td>\n",
       "      <td>0</td>\n",
       "      <td>0</td>\n",
       "    </tr>\n",
       "  </tbody>\n",
       "</table>\n",
       "<p>5 rows × 5123 columns</p>\n",
       "</div>"
      ],
      "text/plain": [
       "   DepTime  Distance  Month_c-1  Month_c-10  Month_c-11  Month_c-12  \\\n",
       "0     1934       732          0           0           0           0   \n",
       "1     1548       834          0           0           0           0   \n",
       "2     1422       416          0           0           0           0   \n",
       "3     1015       872          0           0           1           0   \n",
       "4     1828       423          0           1           0           0   \n",
       "\n",
       "   Month_c-2  Month_c-3  Month_c-4  Month_c-5      ...       Root_XNA_MSP  \\\n",
       "0          0          0          0          0      ...                  0   \n",
       "1          0          0          1          0      ...                  0   \n",
       "2          0          0          0          0      ...                  0   \n",
       "3          0          0          0          0      ...                  0   \n",
       "4          0          0          0          0      ...                  0   \n",
       "\n",
       "   Root_XNA_ORD  Root_XNA_SLC  Root_YAK_CDV  Root_YAK_JNU  Root_YKM_SLC  \\\n",
       "0             0             0             0             0             0   \n",
       "1             0             0             0             0             0   \n",
       "2             0             0             0             0             0   \n",
       "3             0             0             0             0             0   \n",
       "4             0             0             0             0             0   \n",
       "\n",
       "   Root_YUM_IPL  Root_YUM_LAS  Root_YUM_LAX  Root_YUM_PHX  \n",
       "0             0             0             0             0  \n",
       "1             0             0             0             0  \n",
       "2             0             0             0             0  \n",
       "3             0             0             0             0  \n",
       "4             0             0             0             0  \n",
       "\n",
       "[5 rows x 5123 columns]"
      ]
     },
     "execution_count": 16,
     "metadata": {},
     "output_type": "execute_result"
    }
   ],
   "source": [
    "df_interact.head()"
   ]
  },
  {
   "cell_type": "code",
   "execution_count": 18,
   "metadata": {},
   "outputs": [
    {
     "name": "stdout",
     "output_type": "stream",
     "text": [
      "Wall time: 12min 2s\n"
     ]
    }
   ],
   "source": [
    "%%time\n",
    "from sklearn.linear_model import LogisticRegression\n",
    "logit = LogisticRegression()\n",
    "\n",
    "logit.fit(df_interact[:100000], y_train)\n",
    "logit_test_pred = logit.predict_proba(df_interact[100000:])[:, 1]\n",
    "\n",
    "pd.Series(logit_test_pred, name='dep_delayed_15min').to_csv('logit_2feat.csv', index_label='id', header=True)"
   ]
  },
  {
   "cell_type": "code",
   "execution_count": 17,
   "metadata": {
    "collapsed": true
   },
   "outputs": [],
   "source": [
    "XGBClassifier?"
   ]
  },
  {
   "cell_type": "code",
   "execution_count": null,
   "metadata": {
    "collapsed": true
   },
   "outputs": [],
   "source": [
    "%%time\n",
    "xgb = XGBClassifier(n_estimators=100)\n",
    "xgb.fit(df_interact[:100000], y_train[:100000])"
   ]
  },
  {
   "cell_type": "code",
   "execution_count": null,
   "metadata": {
    "collapsed": true
   },
   "outputs": [],
   "source": [
    "print(accuracy_score(y_train[10000:20000], xgb.predict(df_interact[10000:20000])))\n",
    "xgb_valid_pred = xgb.predict_proba(X_valid)[:, 1]\n",
    "print(roc_auc_score(y_valid, xgb_valid_pred))"
   ]
  },
  {
   "cell_type": "code",
   "execution_count": 15,
   "metadata": {
    "collapsed": true
   },
   "outputs": [],
   "source": [
    "xgb_test_pred = xgb.predict_proba(df_interact[100000:])[:, 1]\n",
    "pd.Series(cat_test_pred, name='dep_delayed_15min').to_csv('cat_2feat.csv', index_label='id', header=True)"
   ]
  },
  {
   "cell_type": "code",
   "execution_count": 10,
   "metadata": {},
   "outputs": [
    {
     "name": "stdout",
     "output_type": "stream",
     "text": [
      "0.868466666667 CAT\n",
      "0.88615507903\n"
     ]
    }
   ],
   "source": [
    "from sklearn.metrics import accuracy_score\n",
    "print(accuracy_score(y_train[70000:], cat.predict(df_interact[70000:100000])), \"CAT\")\n",
    "cat_valid_pred = cat.predict_proba(X_valid)[:, 1]\n",
    "print(roc_auc_score(y_valid, cat_valid_pred))"
   ]
  },
  {
   "cell_type": "code",
   "execution_count": 23,
   "metadata": {},
   "outputs": [
    {
     "name": "stdout",
     "output_type": "stream",
     "text": [
      "0.8663 CAT\n",
      "0.88672593548\n"
     ]
    }
   ],
   "source": [
    "from sklearn.metrics import accuracy_score\n",
    "print(accuracy_score(y_train[70000:], cat.predict(df_interact[70000:100000])), \"CAT\")\n",
    "cat_valid_pred = cat.predict_proba(X_valid)[:, 1]\n",
    "print(roc_auc_score(y_valid, cat_valid_pred))"
   ]
  },
  {
   "cell_type": "code",
   "execution_count": null,
   "metadata": {
    "collapsed": true
   },
   "outputs": [],
   "source": [
    "%%time\n",
    "classifier = XGBClassifier(n_jobs = -1)\n",
    "parameters_grid = {\n",
    "    'learning_rate' : np.linspace(0.01,0.2,5),\n",
    "    'min_child_weight' : list(range(1,10,3)),\n",
    "    'max_depth': list(range(1,10,3))\n",
    "}\n",
    "cv = cross_validation.StratifiedShuffleSplit(test_size = 0.3, random_state=100)\n",
    "grid_cv = grid_search.GridSearchCV(classifier, parameters_grid, scoring = 'accuracy', cv = cv)\n",
    "\n",
    "grid_cv.fit(df_interact[:100000], y_train)\n",
    "print(grid_cv.best_score_)\n",
    "print(grid_cv.best_params_)"
   ]
  },
  {
   "cell_type": "code",
   "execution_count": 17,
   "metadata": {},
   "outputs": [
    {
     "name": "stdout",
     "output_type": "stream",
     "text": [
      "0.817066666667 CAT\n",
      "0.817605735331\n"
     ]
    }
   ],
   "source": [
    "from sklearn.metrics import accuracy_score\n",
    "print(accuracy_score(y_train[70000:], cat.predict(df_interact[70000:100000])), \"CAT\")\n",
    "cat_valid_pred = cat.predict_proba(X_valid)[:, 1]\n",
    "print(roc_auc_score(y_valid, cat_valid_pred))"
   ]
  },
  {
   "cell_type": "code",
   "execution_count": 11,
   "metadata": {},
   "outputs": [
    {
     "name": "stdout",
     "output_type": "stream",
     "text": [
      "0.8186 CAT\n",
      "0.815251613484\n"
     ]
    }
   ],
   "source": [
    "from sklearn.metrics import accuracy_score\n",
    "print(accuracy_score(y_train[70000:], cat.predict(df_interact[70000:100000])), \"CAT\")\n",
    "cat_valid_pred = cat.predict_proba(X_valid)[:, 1]\n",
    "print(roc_auc_score(y_valid, cat_valid_pred))"
   ]
  },
  {
   "cell_type": "code",
   "execution_count": 18,
   "metadata": {},
   "outputs": [
    {
     "name": "stdout",
     "output_type": "stream",
     "text": [
      "0.808666666667 CAT\n",
      "0.788567082996\n"
     ]
    }
   ],
   "source": [
    "from sklearn.metrics import accuracy_score\n",
    "print(accuracy_score(y_train[70000:], cat.predict(df_interact[70000:100000])), \"CAT\")\n",
    "cat_valid_pred = cat.predict_proba(X_valid)[:, 1]\n",
    "print(roc_auc_score(y_valid, cat_valid_pred))"
   ]
  },
  {
   "cell_type": "code",
   "execution_count": 12,
   "metadata": {},
   "outputs": [
    {
     "name": "stdout",
     "output_type": "stream",
     "text": [
      "0.8672 CAT\n",
      "0.878746334764\n"
     ]
    }
   ],
   "source": [
    "from sklearn.metrics import accuracy_score\n",
    "print(accuracy_score(y_train[70000:], cat.predict(df_interact[70000:100000])), \"CAT\")\n",
    "cat_valid_pred = cat.predict_proba(X_valid)[:, 1]\n",
    "print(roc_auc_score(y_valid, cat_valid_pred))"
   ]
  },
  {
   "cell_type": "code",
   "execution_count": 19,
   "metadata": {},
   "outputs": [
    {
     "name": "stdout",
     "output_type": "stream",
     "text": [
      "0.858566666667 CAT\n",
      "0.820487509682\n"
     ]
    }
   ],
   "source": [
    "from sklearn.metrics import accuracy_score\n",
    "print(accuracy_score(y_train[70000:], cat.predict(df_interact[70000:100000])), \"CAT\")\n",
    "cat_valid_pred = cat.predict_proba(X_valid)[:, 1]\n",
    "print(roc_auc_score(y_valid, cat_valid_pred))"
   ]
  },
  {
   "cell_type": "code",
   "execution_count": null,
   "metadata": {
    "collapsed": true
   },
   "outputs": [],
   "source": [
    "def evaluate_cross_validation_1(clf, X, y, K):\n",
    "    K=5\n",
    "    estimator = clf\n",
    "    cv_sk = model_selection.StratifiedKFold(K, shuffle=True, random_state=135)\n",
    "    scores = model_selection.cross_val_score(estimator, X, y, scoring='accuracy', cv=cv_sk) \n",
    "    print(scores)\n",
    "    print(\"Mean score: {0:.3f} (+/-{1:.3f})\".format(scores.mean(), scores.std()))"
   ]
  },
  {
   "cell_type": "code",
   "execution_count": null,
   "metadata": {
    "collapsed": true
   },
   "outputs": [],
   "source": [
    "evalime\n",
    "from sklearn import model_selection\n",
    "evaluate_cross_validation()"
   ]
  },
  {
   "cell_type": "code",
   "execution_count": 6,
   "metadata": {},
   "outputs": [
    {
     "data": {
      "text/plain": [
       "0.67956914653526068"
      ]
     },
     "execution_count": 6,
     "metadata": {},
     "output_type": "execute_result"
    }
   ],
   "source": [
    "logit = LogisticRegression()\n",
    "\n",
    "logit.fit(X_train_part, y_train_part)\n",
    "logit_valid_pred = logit.predict_proba(X_valid)[:, 1]\n",
    "\n",
    "roc_auc_score(y_valid, logit_valid_pred)"
   ]
  },
  {
   "cell_type": "code",
   "execution_count": 7,
   "metadata": {},
   "outputs": [
    {
     "name": "stderr",
     "output_type": "stream",
     "text": [
      "C:\\Users\\Qoffee\\Anaconda3v2\\lib\\site-packages\\sklearn\\utils\\validation.py:444: DataConversionWarning: Data with input dtype int64 was converted to float64 by StandardScaler.\n",
      "  warnings.warn(msg, DataConversionWarning)\n"
     ]
    }
   ],
   "source": [
    "X_train_scaled = scaler.fit_transform(X_train)\n",
    "X_test_scaled = scaler.fit_transform(X_test)\n",
    "\n",
    "logit.fit(X_train_scaled, y_train)\n",
    "logit_test_pred = logit.predict_proba(X_test_scaled)[:, 1]\n",
    "\n",
    "pd.Series(logit_test_pred, name='dep_delayed_15min').to_csv('logit_2feat.csv', index_label='id', header=True)"
   ]
  },
  {
   "cell_type": "markdown",
   "metadata": {},
   "source": [
    "Второй бенчмарк, представленный в рейтинге соревнования, был получен так:\n",
    "- Признаки `Distance` и  `DepTime` брались без изменений\n",
    "- Создан признак \"маршрут\" из исходных `Origin` и `Dest`\n",
    "- К признакам `Month`, `DayofMonth`, `DayOfWeek`, `UniqueCarrier` и \"маршрут\" применено OHE-преобразование (`LabelBinarizer`)\n",
    "- Выделена отложенная выборка\n",
    "- Обучалась логистическая регрессия и градиентный бустинг (xgboost), гиперпараметры бустинга настраивались на кросс-валидации, сначала те, что отвечают за сложность модели, затем число деревьев фиксировалось равным 500 и настраивался шаг градиентного спуска\n",
    "- С помощью `cross_val_predict` делались прогнозы обеих моделей на кросс-валидации (именно предсказанные вероятности), настраивалась линейная смесь ответов логистической регрессии и градиентного бустинга вида $w_1 * p_{logit} + (1 - w_1) * p_{xgb}$, где $p_{logit}$ – предсказанные логистической регрессией вероятности класса 1, $p_{xgb}$ – аналогично. Вес $w_1$ подбирался вручную. \n",
    "- В качестве ответа для тестовой выборки бралась аналогичная комбинация ответов двух моделей, но уже обученных на всей обучающей выборке.\n",
    "\n",
    "Описанный план ни к чему не обязывает – это просто то, как решение получил автор задания. Возможно, вы не захотите следовать намеченному плану, а добавите, скажем, пару хороших признаков и обучите лес из тысячи деревьев.\n",
    "\n",
    "Удачи!"
   ]
  },
  {
   "cell_type": "code",
   "execution_count": 10,
   "metadata": {},
   "outputs": [
    {
     "data": {
      "text/html": [
       "<div>\n",
       "<style>\n",
       "    .dataframe thead tr:only-child th {\n",
       "        text-align: right;\n",
       "    }\n",
       "\n",
       "    .dataframe thead th {\n",
       "        text-align: left;\n",
       "    }\n",
       "\n",
       "    .dataframe tbody tr th {\n",
       "        vertical-align: top;\n",
       "    }\n",
       "</style>\n",
       "<table border=\"1\" class=\"dataframe\">\n",
       "  <thead>\n",
       "    <tr style=\"text-align: right;\">\n",
       "      <th></th>\n",
       "      <th>Month</th>\n",
       "      <th>DayofMonth</th>\n",
       "      <th>DayOfWeek</th>\n",
       "      <th>DepTime</th>\n",
       "      <th>UniqueCarrier</th>\n",
       "      <th>Origin</th>\n",
       "      <th>Dest</th>\n",
       "      <th>Distance</th>\n",
       "    </tr>\n",
       "  </thead>\n",
       "  <tbody>\n",
       "    <tr>\n",
       "      <th>0</th>\n",
       "      <td>c-8</td>\n",
       "      <td>c-21</td>\n",
       "      <td>c-7</td>\n",
       "      <td>1934</td>\n",
       "      <td>AA</td>\n",
       "      <td>ATL</td>\n",
       "      <td>DFW</td>\n",
       "      <td>732</td>\n",
       "    </tr>\n",
       "    <tr>\n",
       "      <th>1</th>\n",
       "      <td>c-4</td>\n",
       "      <td>c-20</td>\n",
       "      <td>c-3</td>\n",
       "      <td>1548</td>\n",
       "      <td>US</td>\n",
       "      <td>PIT</td>\n",
       "      <td>MCO</td>\n",
       "      <td>834</td>\n",
       "    </tr>\n",
       "    <tr>\n",
       "      <th>2</th>\n",
       "      <td>c-9</td>\n",
       "      <td>c-2</td>\n",
       "      <td>c-5</td>\n",
       "      <td>1422</td>\n",
       "      <td>XE</td>\n",
       "      <td>RDU</td>\n",
       "      <td>CLE</td>\n",
       "      <td>416</td>\n",
       "    </tr>\n",
       "    <tr>\n",
       "      <th>3</th>\n",
       "      <td>c-11</td>\n",
       "      <td>c-25</td>\n",
       "      <td>c-6</td>\n",
       "      <td>1015</td>\n",
       "      <td>OO</td>\n",
       "      <td>DEN</td>\n",
       "      <td>MEM</td>\n",
       "      <td>872</td>\n",
       "    </tr>\n",
       "    <tr>\n",
       "      <th>4</th>\n",
       "      <td>c-10</td>\n",
       "      <td>c-7</td>\n",
       "      <td>c-6</td>\n",
       "      <td>1828</td>\n",
       "      <td>WN</td>\n",
       "      <td>MDW</td>\n",
       "      <td>OMA</td>\n",
       "      <td>423</td>\n",
       "    </tr>\n",
       "  </tbody>\n",
       "</table>\n",
       "</div>"
      ],
      "text/plain": [
       "  Month DayofMonth DayOfWeek  DepTime UniqueCarrier Origin Dest  Distance\n",
       "0   c-8       c-21       c-7     1934            AA    ATL  DFW       732\n",
       "1   c-4       c-20       c-3     1548            US    PIT  MCO       834\n",
       "2   c-9        c-2       c-5     1422            XE    RDU  CLE       416\n",
       "3  c-11       c-25       c-6     1015            OO    DEN  MEM       872\n",
       "4  c-10        c-7       c-6     1828            WN    MDW  OMA       423"
      ]
     },
     "execution_count": 10,
     "metadata": {},
     "output_type": "execute_result"
    }
   ],
   "source": [
    "X.head()"
   ]
  },
  {
   "cell_type": "code",
   "execution_count": 23,
   "metadata": {},
   "outputs": [
    {
     "data": {
      "text/html": [
       "<div>\n",
       "<style>\n",
       "    .dataframe thead tr:only-child th {\n",
       "        text-align: right;\n",
       "    }\n",
       "\n",
       "    .dataframe thead th {\n",
       "        text-align: left;\n",
       "    }\n",
       "\n",
       "    .dataframe tbody tr th {\n",
       "        vertical-align: top;\n",
       "    }\n",
       "</style>\n",
       "<table border=\"1\" class=\"dataframe\">\n",
       "  <thead>\n",
       "    <tr style=\"text-align: right;\">\n",
       "      <th></th>\n",
       "      <th>Month</th>\n",
       "      <th>DayofMonth</th>\n",
       "      <th>DayOfWeek</th>\n",
       "      <th>DepTime</th>\n",
       "      <th>UniqueCarrier</th>\n",
       "      <th>Origin</th>\n",
       "      <th>Dest</th>\n",
       "      <th>Distance</th>\n",
       "      <th>Month_DayofMonth</th>\n",
       "      <th>Month_DayOfWeek</th>\n",
       "      <th>DayofMonth_DayOfWeek</th>\n",
       "    </tr>\n",
       "  </thead>\n",
       "  <tbody>\n",
       "    <tr>\n",
       "      <th>0</th>\n",
       "      <td>c-8</td>\n",
       "      <td>c-21</td>\n",
       "      <td>c-7</td>\n",
       "      <td>1934</td>\n",
       "      <td>AA</td>\n",
       "      <td>ATL</td>\n",
       "      <td>DFW</td>\n",
       "      <td>732</td>\n",
       "      <td>c-8_c-21</td>\n",
       "      <td>c-8_c-7</td>\n",
       "      <td>c-21_c-7</td>\n",
       "    </tr>\n",
       "    <tr>\n",
       "      <th>1</th>\n",
       "      <td>c-4</td>\n",
       "      <td>c-20</td>\n",
       "      <td>c-3</td>\n",
       "      <td>1548</td>\n",
       "      <td>US</td>\n",
       "      <td>PIT</td>\n",
       "      <td>MCO</td>\n",
       "      <td>834</td>\n",
       "      <td>c-4_c-20</td>\n",
       "      <td>c-4_c-3</td>\n",
       "      <td>c-20_c-3</td>\n",
       "    </tr>\n",
       "    <tr>\n",
       "      <th>2</th>\n",
       "      <td>c-9</td>\n",
       "      <td>c-2</td>\n",
       "      <td>c-5</td>\n",
       "      <td>1422</td>\n",
       "      <td>XE</td>\n",
       "      <td>RDU</td>\n",
       "      <td>CLE</td>\n",
       "      <td>416</td>\n",
       "      <td>c-9_c-2</td>\n",
       "      <td>c-9_c-5</td>\n",
       "      <td>c-2_c-5</td>\n",
       "    </tr>\n",
       "    <tr>\n",
       "      <th>3</th>\n",
       "      <td>c-11</td>\n",
       "      <td>c-25</td>\n",
       "      <td>c-6</td>\n",
       "      <td>1015</td>\n",
       "      <td>OO</td>\n",
       "      <td>DEN</td>\n",
       "      <td>MEM</td>\n",
       "      <td>872</td>\n",
       "      <td>c-11_c-25</td>\n",
       "      <td>c-11_c-6</td>\n",
       "      <td>c-25_c-6</td>\n",
       "    </tr>\n",
       "    <tr>\n",
       "      <th>4</th>\n",
       "      <td>c-10</td>\n",
       "      <td>c-7</td>\n",
       "      <td>c-6</td>\n",
       "      <td>1828</td>\n",
       "      <td>WN</td>\n",
       "      <td>MDW</td>\n",
       "      <td>OMA</td>\n",
       "      <td>423</td>\n",
       "      <td>c-10_c-7</td>\n",
       "      <td>c-10_c-6</td>\n",
       "      <td>c-7_c-6</td>\n",
       "    </tr>\n",
       "  </tbody>\n",
       "</table>\n",
       "</div>"
      ],
      "text/plain": [
       "  Month DayofMonth DayOfWeek  DepTime UniqueCarrier Origin Dest  Distance  \\\n",
       "0   c-8       c-21       c-7     1934            AA    ATL  DFW       732   \n",
       "1   c-4       c-20       c-3     1548            US    PIT  MCO       834   \n",
       "2   c-9        c-2       c-5     1422            XE    RDU  CLE       416   \n",
       "3  c-11       c-25       c-6     1015            OO    DEN  MEM       872   \n",
       "4  c-10        c-7       c-6     1828            WN    MDW  OMA       423   \n",
       "\n",
       "  Month_DayofMonth Month_DayOfWeek DayofMonth_DayOfWeek  \n",
       "0         c-8_c-21         c-8_c-7             c-21_c-7  \n",
       "1         c-4_c-20         c-4_c-3             c-20_c-3  \n",
       "2          c-9_c-2         c-9_c-5              c-2_c-5  \n",
       "3        c-11_c-25        c-11_c-6             c-25_c-6  \n",
       "4         c-10_c-7        c-10_c-6              c-7_c-6  "
      ]
     },
     "execution_count": 23,
     "metadata": {},
     "output_type": "execute_result"
    }
   ],
   "source": [
    "df_interact.head()"
   ]
  },
  {
   "cell_type": "code",
   "execution_count": 24,
   "metadata": {},
   "outputs": [
    {
     "data": {
      "text/plain": [
       "Index(['Month', 'DayofMonth', 'DayOfWeek', 'DepTime', 'UniqueCarrier',\n",
       "       'Origin', 'Dest', 'Distance', 'Month_DayofMonth', 'Month_DayOfWeek',\n",
       "       'DayofMonth_DayOfWeek'],\n",
       "      dtype='object')"
      ]
     },
     "execution_count": 24,
     "metadata": {},
     "output_type": "execute_result"
    }
   ],
   "source": [
    "df_interact.columns"
   ]
  },
  {
   "cell_type": "code",
   "execution_count": 28,
   "metadata": {
    "scrolled": false
   },
   "outputs": [
    {
     "name": "stdout",
     "output_type": "stream",
     "text": [
      "Wall time: 2.89 s\n"
     ]
    }
   ],
   "source": [
    "%%time\n",
    "df_interact = pd.get_dummies(df_interact, columns=df_interact.columns[df_interact.dtypes == 'object'])"
   ]
  },
  {
   "cell_type": "code",
   "execution_count": 29,
   "metadata": {},
   "outputs": [
    {
     "data": {
      "text/plain": [
       "(200000, 1355)"
      ]
     },
     "execution_count": 29,
     "metadata": {},
     "output_type": "execute_result"
    }
   ],
   "source": [
    "df_interact.shape"
   ]
  },
  {
   "cell_type": "code",
   "execution_count": 31,
   "metadata": {
    "collapsed": true
   },
   "outputs": [],
   "source": [
    "X_train, y_train = df_interact[:100000].values, y_train\n",
    "X_test = df_interact[100000:].values\n",
    "\n",
    "logit.fit(X_train, y_train)\n",
    "logit_test_pred = logit.predict_proba(X_test)[:, 1]\n",
    "\n",
    "pd.Series(logit_test_pred, name='dep_delayed_15min').to_csv('logit_2feat.csv', index_label='id', header=True)"
   ]
  },
  {
   "cell_type": "code",
   "execution_count": 82,
   "metadata": {
    "collapsed": true,
    "scrolled": true
   },
   "outputs": [],
   "source": [
    "from xgboost import XGBClassifier\n",
    "from sklearn.metrics import accuracy_score\n",
    "from sklearn.ensemble import BaggingClassifier \n",
    "bc = BaggingClassifier()\n",
    "bc.fit(X_train, y_train)\n",
    "accuracy_score(y_train, bc.predict(X_train))\n",
    "bc_test_pred = rfc.predict_proba(X_test)[:, 1]\n",
    "pd.Series(bc_test_pred, name='dep_delayed_15min').to_csv('bc_2feat.csv', index_label='id', header=True)"
   ]
  },
  {
   "cell_type": "code",
   "execution_count": 81,
   "metadata": {
    "collapsed": true
   },
   "outputs": [],
   "source": [
    "from sklearn.ensemble import GradientBoostingClassifier \n",
    "gbc = GradientBoostingClassifier()\n",
    "gbc.fit(X_train, y_train)\n",
    "accuracy_score(y_train, gbc.predict(X_train))\n",
    "gbc_test_pred = gbc.predict_proba(X_test)[:, 1]\n",
    "pd.Series(gbc_test_pred, name='dep_delayed_15min').to_csv('gbc_2feat.csv', index_label='id', header=True)"
   ]
  },
  {
   "cell_type": "code",
   "execution_count": 83,
   "metadata": {},
   "outputs": [
    {
     "data": {
      "text/plain": [
       "0.81808999999999998"
      ]
     },
     "execution_count": 83,
     "metadata": {},
     "output_type": "execute_result"
    }
   ],
   "source": [
    "accuracy_score(y_train, gbc.predict(X_train))"
   ]
  },
  {
   "cell_type": "code",
   "execution_count": 61,
   "metadata": {},
   "outputs": [
    {
     "data": {
      "text/plain": [
       "0.80840000000000001"
      ]
     },
     "execution_count": 61,
     "metadata": {},
     "output_type": "execute_result"
    }
   ],
   "source": [
    "from sklearn.calibration import CalibratedClassifierCV\n",
    "cc = CalibratedClassifierCV()\n",
    "cc.fit(X_train[:70000], y_train[:70000])\n",
    "accuracy_score(y_train[70000:], cc.predict(X_train[70000:]))"
   ]
  },
  {
   "cell_type": "code",
   "execution_count": 62,
   "metadata": {},
   "outputs": [
    {
     "data": {
      "text/plain": [
       "0.69353333333333333"
      ]
     },
     "execution_count": 62,
     "metadata": {},
     "output_type": "execute_result"
    }
   ],
   "source": [
    "from sklearn.dummy import DummyClassifier\n",
    "dc = DummyClassifier()\n",
    "dc.fit(X_train[:70000], y_train[:70000])\n",
    "accuracy_score(y_train[70000:], dc.predict(X_train[70000:]))"
   ]
  },
  {
   "cell_type": "code",
   "execution_count": 63,
   "metadata": {},
   "outputs": [
    {
     "name": "stderr",
     "output_type": "stream",
     "text": [
      "C:\\Users\\Qoffee\\Anaconda3v2\\lib\\site-packages\\sklearn\\discriminant_analysis.py:682: UserWarning: Variables are collinear\n",
      "  warnings.warn(\"Variables are collinear\")\n"
     ]
    },
    {
     "name": "stdout",
     "output_type": "stream",
     "text": [
      "0.209333333333 QDA\n"
     ]
    },
    {
     "name": "stderr",
     "output_type": "stream",
     "text": [
      "C:\\Users\\Qoffee\\Anaconda3v2\\lib\\site-packages\\sklearn\\discriminant_analysis.py:388: UserWarning: Variables are collinear.\n",
      "  warnings.warn(\"Variables are collinear.\")\n"
     ]
    },
    {
     "name": "stdout",
     "output_type": "stream",
     "text": [
      "0.810833333333 LDA\n"
     ]
    }
   ],
   "source": [
    "from sklearn.discriminant_analysis import LinearDiscriminantAnalysis\n",
    "qda = QuadraticDiscriminantAnalysis()\n",
    "lda = LinearDiscriminantAnalysis()\n",
    "qda.fit(X_train[:70000], y_train[:70000])\n",
    "print(accuracy_score(y_train[70000:], qda.predict(X_train[70000:])), \"QDA\")\n",
    "lda.fit(X_train[:70000], y_train[:70000])\n",
    "print(accuracy_score(y_train[70000:], lda.predict(X_train[70000:])), \"LDA\")"
   ]
  },
  {
   "cell_type": "code",
   "execution_count": 64,
   "metadata": {},
   "outputs": [
    {
     "name": "stdout",
     "output_type": "stream",
     "text": [
      "0.8091 GPC\n"
     ]
    }
   ],
   "source": [
    "from sklearn.linear_model import RidgeClassifierCV\n",
    "rcc = RidgeClassifierCV()\n",
    "rcc.fit(X_train[:70000], y_train[:70000])\n",
    "print(accuracy_score(y_train[70000:], rcc.predict(X_train[70000:])), \"GPC\")"
   ]
  },
  {
   "cell_type": "code",
   "execution_count": 74,
   "metadata": {},
   "outputs": [
    {
     "name": "stdout",
     "output_type": "stream",
     "text": [
      "0.812133333333 GPC\n"
     ]
    }
   ],
   "source": [
    "from sklearn.linear_model import LogisticRegression\n",
    "log = LogisticRegression()\n",
    "log.fit(X_train[:70000], y_train[:70000])\n",
    "print(accuracy_score(y_train[70000:], log.predict(X_train[70000:])), \"GPC\")"
   ]
  },
  {
   "cell_type": "code",
   "execution_count": 65,
   "metadata": {},
   "outputs": [
    {
     "name": "stderr",
     "output_type": "stream",
     "text": [
      "C:\\Users\\Qoffee\\Anaconda3v2\\lib\\site-packages\\sklearn\\linear_model\\stochastic_gradient.py:84: FutureWarning: max_iter and tol parameters have been added in <class 'sklearn.linear_model.passive_aggressive.PassiveAggressiveClassifier'> in 0.19. If both are left unset, they default to max_iter=5 and tol=None. If tol is not None, max_iter defaults to max_iter=1000. From 0.21, default max_iter will be 1000, and default tol will be 1e-3.\n",
      "  \"and default tol will be 1e-3.\" % type(self), FutureWarning)\n"
     ]
    },
    {
     "name": "stdout",
     "output_type": "stream",
     "text": [
      "0.8084 GPC\n"
     ]
    }
   ],
   "source": [
    "from sklearn.linear_model import PassiveAggressiveClassifier\n",
    "pac = PassiveAggressiveClassifier()\n",
    "pac.fit(X_train[:70000], y_train[:70000])\n",
    "print(accuracy_score(y_train[70000:], pac.predict(X_train[70000:])), \"GPC\")"
   ]
  },
  {
   "cell_type": "code",
   "execution_count": 66,
   "metadata": {},
   "outputs": [
    {
     "name": "stdout",
     "output_type": "stream",
     "text": [
      "0.806066666667 BN\n"
     ]
    }
   ],
   "source": [
    "from sklearn.naive_bayes import BernoulliNB\n",
    "bn = BernoulliNB()\n",
    "bn.fit(X_train[:70000], y_train[:70000])\n",
    "print(accuracy_score(y_train[70000:], bn.predict(X_train[70000:])), \"BN\")"
   ]
  },
  {
   "cell_type": "code",
   "execution_count": 67,
   "metadata": {},
   "outputs": [
    {
     "name": "stdout",
     "output_type": "stream",
     "text": [
      "0.791733333333 KC\n"
     ]
    }
   ],
   "source": [
    "from sklearn.neighbors import KNeighborsClassifier\n",
    "kc = KNeighborsClassifier()\n",
    "kc.fit(X_train[:70000], y_train[:70000])\n",
    "print(accuracy_score(y_train[70000:], kc.predict(X_train[70000:])), \"KC\")"
   ]
  },
  {
   "cell_type": "code",
   "execution_count": 68,
   "metadata": {},
   "outputs": [
    {
     "name": "stderr",
     "output_type": "stream",
     "text": [
      "C:\\Users\\Qoffee\\Anaconda3v2\\lib\\site-packages\\sklearn\\linear_model\\stochastic_gradient.py:84: FutureWarning: max_iter and tol parameters have been added in <class 'sklearn.linear_model.perceptron.Perceptron'> in 0.19. If both are left unset, they default to max_iter=5 and tol=None. If tol is not None, max_iter defaults to max_iter=1000. From 0.21, default max_iter will be 1000, and default tol will be 1e-3.\n",
      "  \"and default tol will be 1e-3.\" % type(self), FutureWarning)\n"
     ]
    },
    {
     "name": "stdout",
     "output_type": "stream",
     "text": [
      "0.805266666667 MLP\n",
      "0.8084 PER\n"
     ]
    }
   ],
   "source": [
    "from sklearn.neural_network import MLPClassifier\n",
    "from sklearn.linear_model import Perceptron\n",
    "mlp = MLPClassifier()\n",
    "per = Perceptron()\n",
    "mlp.fit(X_train[:70000], y_train[:70000])\n",
    "print(accuracy_score(y_train[70000:], mlp.predict(X_train[70000:])), \"MLP\")\n",
    "per.fit(X_train[:70000], y_train[:70000])\n",
    "print(accuracy_score(y_train[70000:], per.predict(X_train[70000:])), \"PER\")"
   ]
  },
  {
   "cell_type": "code",
   "execution_count": 69,
   "metadata": {},
   "outputs": [
    {
     "data": {
      "text/plain": [
       "0.81496666666666662"
      ]
     },
     "execution_count": 69,
     "metadata": {},
     "output_type": "execute_result"
    }
   ],
   "source": [
    "rfc = XGBClassifier(max_depth=3)\n",
    "rfc.fit(X_train[:70000], y_train[:70000])\n",
    "accuracy_score(y_train[70000:], rfc.predict(X_train[70000:]))"
   ]
  },
  {
   "cell_type": "code",
   "execution_count": 71,
   "metadata": {},
   "outputs": [
    {
     "name": "stdout",
     "output_type": "stream",
     "text": [
      "Wall time: 2.02 s\n"
     ]
    }
   ],
   "source": [
    "%%time\n",
    "df_interact = pd.get_dummies(X, columns=X.columns[X.dtypes == 'object'])\n",
    "X_train, y_train = df_interact[:100000].values, y_train\n",
    "X_test = df_interact[100000:].values"
   ]
  },
  {
   "cell_type": "code",
   "execution_count": 80,
   "metadata": {},
   "outputs": [
    {
     "name": "stderr",
     "output_type": "stream",
     "text": [
      "C:\\Users\\Qoffee\\Anaconda3v2\\lib\\site-packages\\sklearn\\linear_model\\stochastic_gradient.py:84: FutureWarning: max_iter and tol parameters have been added in <class 'sklearn.linear_model.perceptron.Perceptron'> in 0.19. If both are left unset, they default to max_iter=5 and tol=None. If tol is not None, max_iter defaults to max_iter=1000. From 0.21, default max_iter will be 1000, and default tol will be 1e-3.\n",
      "  \"and default tol will be 1e-3.\" % type(self), FutureWarning)\n"
     ]
    },
    {
     "name": "stdout",
     "output_type": "stream",
     "text": [
      "0.68621 MLP\n",
      "0.80956 PER\n",
      "Wall time: 50.8 s\n"
     ]
    }
   ],
   "source": [
    "%%time\n",
    "from sklearn.neural_network import MLPClassifier\n",
    "from sklearn.linear_model import Perceptron\n",
    "mlp = MLPClassifier()\n",
    "per = Perceptron()\n",
    "mlp.fit(X_train, y_train)\n",
    "print(accuracy_score(y_train, mlp.predict(X_train)), \"MLP\")\n",
    "mlp_test_pred = mlp.predict_proba(X_test)[:, 1]\n",
    "pd.Series(mlp_test_pred, name='dep_delayed_15min').to_csv('mlp_2feat.csv', index_label='id', header=True)\n",
    "per.fit(X_train, y_train)\n",
    "print(accuracy_score(y_train, per.predict(X_train)), \"PER\")"
   ]
  },
  {
   "cell_type": "code",
   "execution_count": 78,
   "metadata": {},
   "outputs": [
    {
     "name": "stdout",
     "output_type": "stream",
     "text": [
      "0.81311 ABC\n",
      "Wall time: 36.5 s\n"
     ]
    }
   ],
   "source": [
    "%%time\n",
    "from sklearn.ensemble import AdaBoostClassifier \n",
    "from sklearn.ensemble import ExtraTreesClassifier \n",
    "abc = AdaBoostClassifier()\n",
    "etc = ExtraTreesClassifier()\n",
    "abc.fit(X_train, y_train)\n",
    "print(accuracy_score(y_train, abc.predict(X_train)), \"ABC\")\n",
    "abc_test_pred = abc.predict_proba(X_test)[:, 1]\n",
    "pd.Series(abc_test_pred, name='dep_delayed_15min').to_csv('abc_2feat.csv', index_label='id', header=True)"
   ]
  },
  {
   "cell_type": "code",
   "execution_count": null,
   "metadata": {
    "collapsed": true
   },
   "outputs": [],
   "source": [
    "from sklearn import svm, grid_search\n",
    "def svc_param_selection(X, y, nfolds):\n",
    "    Cs = [0.001, 0.01, 0.1, 1, 10]\n",
    "    gammas = [0.001, 0.01, 0.1, 1]\n",
    "    param_grid = {'C': Cs, 'gamma' : gammas}\n",
    "    grid_search = GridSearchCV(svm.SVC(kernel='rbf'), param_grid, cv=nfolds)\n",
    "    grid_search.fit(X, y)\n",
    "    grid_search.best_params_\n",
    "    return grid_search.best_params_"
   ]
  },
  {
   "cell_type": "code",
   "execution_count": 84,
   "metadata": {
    "collapsed": true
   },
   "outputs": [],
   "source": [
    "def evaluate_cross_validation_1(clf, X, y, K):\n",
    "    K=5\n",
    "    estimator = clf\n",
    "    cv_sk = model_selection.StratifiedKFold(K, shuffle=True, random_state=135)\n",
    "    scores = model_selection.cross_val_score(estimator, X, y, scoring='accuracy', cv=cv_sk) \n",
    "    print(scores)\n",
    "    print(\"Mean score: {0:.3f} (+/-{1:.3f})\".format(scores.mean(), scores.std()))\n",
    "    \n",
    "    \n",
    "def evaluate_cross_validation_2(clf, X, y, K):\n",
    "    estimator = pipeline.Pipeline(steps = [       \n",
    "    ('feature_processing', pipeline.FeatureUnion(transformer_list = [        \n",
    "            #binary\n",
    "            ('binary_variables_processing', preprocessing.FunctionTransformer(lambda X: X[:, binary_data_indices])), \n",
    "                    \n",
    "            #numeric\n",
    "            ('numeric_variables_processing', pipeline.Pipeline(steps = [\n",
    "                ('selecting', preprocessing.FunctionTransformer(lambda X: X[:, numeric_data_indices])),\n",
    "                ('scaling', preprocessing.StandardScaler(with_mean = 0, with_std = 1))            \n",
    "                        ])),\n",
    "        \n",
    "            #categorical\n",
    "            ('categorical_variables_processing', pipeline.Pipeline(steps = [\n",
    "                ('selecting', preprocessing.FunctionTransformer(lambda X: X[:, categorical_data_indices])),\n",
    "                ('hot_encoding', preprocessing.OneHotEncoder(handle_unknown = 'ignore'))            \n",
    "                        ])),\n",
    "        ])),\n",
    "    ('model_fitting', clf)\n",
    "    ]\n",
    "    )\n",
    "    cv_sk = model_selection.StratifiedKFold(K, shuffle=True, random_state=135)\n",
    "    scores = model_selection.cross_val_score(estimator, X, y, scoring='accuracy', cv=cv_sk) \n",
    "    print(scores)\n",
    "    print(\"Mean score: {0:.3f} (+/-{1:.3f})\".format(scores.mean(), scores.std()))"
   ]
  },
  {
   "cell_type": "code",
   "execution_count": null,
   "metadata": {
    "collapsed": true
   },
   "outputs": [],
   "source": [
    "%%time\n",
    "from sklearn.ensemble import ExtraTreesClassifier\n",
    "from sklearn import model_selection\n",
    "classifier = ExtraTreesClassifier(n_estimators = 30, n_jobs=-1, random_state=100)\n",
    "parameters_grid = {\n",
    "    'criterion': ['gini', 'entropy'],\n",
    "    'max_features' : ['sqrt','log2',None],\n",
    "    'max_depth': list(range(3,16,3)),\n",
    "    'min_samples_split' : list(range(2,12,3)),\n",
    "    'min_samples_leaf': list(range(1,10,3)),\n",
    "}\n",
    "cv = model_selection.StratifiedShuffleSplit(test_size = 0.3, random_state=100)\n",
    "grid_cv = model_selection.GridSearchCV(classifier, parameters_grid, scoring = 'accuracy', cv = cv)\n",
    "\n",
    "grid_cv.fit(X_train, y_train)\n",
    "print(grid_cv.best_score_)\n",
    "print(grid_cv.best_params_)"
   ]
  },
  {
   "cell_type": "code",
   "execution_count": null,
   "metadata": {
    "collapsed": true
   },
   "outputs": [],
   "source": [
    "%%time\n",
    "from sklearn.ensemble import GradientBoostingClassifier\n",
    "classifier = GradientBoostingClassifier(n_estimators = 200, random_state=100)\n",
    "parameters_grid = {\n",
    "    'max_features' : ['sqrt','log2'],\n",
    "    'loss' : ['deviance', 'exponential'],\n",
    "#     'min_samples_split' : list(range(2,9,3)),\n",
    "#     'min_samples_leaf': list(range(1,11,3)),\n",
    "    'max_depth': list(range(3,16,3)),\n",
    "    'max_features': list(range(1,11,2))\n",
    "}\n",
    "cv = model_selection.StratifiedShuffleSplit(test_size = 0.3, random_state=100)\n",
    "grid_cv = model_selection.GridSearchCV(classifier, parameters_grid, scoring = 'accuracy', cv = cv)\n",
    "\n",
    "grid_cv.fit(X, y_c)\n",
    "print(grid_cv.best_score_)\n",
    "print(grid_cv.best_params_)"
   ]
  },
  {
   "cell_type": "code",
   "execution_count": null,
   "metadata": {
    "collapsed": true
   },
   "outputs": [],
   "source": [
    "%%time\n",
    "classifier = XGBClassifier()\n",
    "parameters_grid = {\n",
    "    'learning_rate' : np.linspace(0.01,0.3,5),\n",
    "    'min_child_weight' : list(range(1,10,3)),\n",
    "    'max_depth': list(range(1,10,3))\n",
    "}\n",
    "cv = cross_validation.StratifiedShuffleSplit(test_size = 0.3, random_state=100)\n",
    "grid_cv = grid_search.GridSearchCV(classifier, parameters_grid, scoring = 'accuracy', cv = cv)\n",
    "\n",
    "grid_cv.fit(X, y_c)\n",
    "print(grid_cv.best_score_)\n",
    "print(grid_cv.best_params_)"
   ]
  },
  {
   "cell_type": "code",
   "execution_count": null,
   "metadata": {
    "collapsed": true
   },
   "outputs": [],
   "source": []
  }
 ],
 "metadata": {
  "kernelspec": {
   "display_name": "Python 3",
   "language": "python",
   "name": "python3"
  },
  "language_info": {
   "codemirror_mode": {
    "name": "ipython",
    "version": 3
   },
   "file_extension": ".py",
   "mimetype": "text/x-python",
   "name": "python",
   "nbconvert_exporter": "python",
   "pygments_lexer": "ipython3",
   "version": "3.6.3"
  }
 },
 "nbformat": 4,
 "nbformat_minor": 2
}
